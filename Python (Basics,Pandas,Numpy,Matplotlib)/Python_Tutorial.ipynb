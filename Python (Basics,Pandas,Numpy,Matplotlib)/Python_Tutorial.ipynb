{
  "nbformat": 4,
  "nbformat_minor": 0,
  "metadata": {
    "colab": {
      "name": "Python_Tutorial.ipynb",
      "provenance": []
    },
    "kernelspec": {
      "display_name": "Python 3",
      "language": "python",
      "name": "python3"
    },
    "language_info": {
      "codemirror_mode": {
        "name": "ipython",
        "version": 3
      },
      "file_extension": ".py",
      "mimetype": "text/x-python",
      "name": "python",
      "nbconvert_exporter": "python",
      "pygments_lexer": "ipython3",
      "version": "3.8.5"
    }
  },
  "cells": [
    {
      "cell_type": "markdown",
      "metadata": {
        "id": "AHjKs2ePHn2G"
      },
      "source": [
        "# Welcome to Python Tutorial\n",
        "\n",
        "Python is an interpreted( meaning that code can be executed as soon as it is written), object-oriented, high-level programming language with dynamic semantics.\n",
        "\n",
        "It is used for:\n",
        "web development (server-side),\n",
        "software development,\n",
        "mathematics,\n",
        "system scripting."
      ]
    },
    {
      "cell_type": "markdown",
      "metadata": {
        "id": "nFy1xRrfHn2K"
      },
      "source": [
        "# Python Comments"
      ]
    },
    {
      "cell_type": "code",
      "metadata": {
        "colab": {
          "base_uri": "https://localhost:8080/"
        },
        "id": "YKsRyNzSHn2L",
        "outputId": "178b4aa4-576d-4310-db48-f02a0f689d8c"
      },
      "source": [
        "#python Comments can be used to explain Python code.\n",
        "print(\"Hello friend. My name is ABC and welcome to your first lab\")"
      ],
      "execution_count": 452,
      "outputs": [
        {
          "output_type": "stream",
          "name": "stdout",
          "text": [
            "Hello friend. My name is ABC and welcome to your first lab\n"
          ]
        }
      ]
    },
    {
      "cell_type": "code",
      "metadata": {
        "id": "YSKDZguJHn2N",
        "colab": {
          "base_uri": "https://localhost:8080/"
        },
        "outputId": "03a1f7db-02ad-4eae-9966-b1a55b1cfdb0"
      },
      "source": [
        "\"\"\"\n",
        "This is\n",
        "multiline comments\n",
        "\"\"\"\n",
        "print(\"Comment used to prevent execution of those lines.\")"
      ],
      "execution_count": 453,
      "outputs": [
        {
          "output_type": "stream",
          "name": "stdout",
          "text": [
            "Comment used to prevent execution of those lines.\n"
          ]
        }
      ]
    },
    {
      "cell_type": "markdown",
      "metadata": {
        "id": "LMcTRv_RHn2O"
      },
      "source": [
        "# Variable"
      ]
    },
    {
      "cell_type": "code",
      "metadata": {
        "id": "up2Eju7aHn2O",
        "colab": {
          "base_uri": "https://localhost:8080/"
        },
        "outputId": "980f6ee6-ed28-4de5-cb41-6da601733a15"
      },
      "source": [
        "#Variables are containers for storing data values\n",
        "x=20\n",
        "print(x + 1)   # Addition\n",
        "print(x - 1)   # Subtraction\n",
        "print(x * 2)   # Multiplication\n",
        "print(x ** 2)  # Exponentiatio"
      ],
      "execution_count": 454,
      "outputs": [
        {
          "output_type": "stream",
          "name": "stdout",
          "text": [
            "21\n",
            "19\n",
            "40\n",
            "400\n"
          ]
        }
      ]
    },
    {
      "cell_type": "code",
      "metadata": {
        "id": "Mb61bHVyHn2P"
      },
      "source": [
        "#Python Variable naming\n",
        "_A = 5 #valid\n",
        "aa=6   #valid\n",
        "Aa =7  #valid\n",
        "A9=8 #valid\n",
        "\n",
        "# 9A=10 #not valid variable name\n",
        "notvalidvariableName=7\n"
      ],
      "execution_count": 455,
      "outputs": []
    },
    {
      "cell_type": "code",
      "metadata": {
        "id": "OHz0E3E_Hn2Q",
        "colab": {
          "base_uri": "https://localhost:8080/"
        },
        "outputId": "4b5b921d-9571-4280-b751-bfad9aefd916"
      },
      "source": [
        "# Casting is used to specify the data type of a variable.\n",
        "x = str(4)\n",
        "y = int(4)\n",
        "z = float(4)\n",
        "# x = \"ABC\"\n",
        "print(type(x))\n",
        "print(type(y))\n",
        "print(type(z))"
      ],
      "execution_count": 456,
      "outputs": [
        {
          "output_type": "stream",
          "name": "stdout",
          "text": [
            "<class 'str'>\n",
            "<class 'int'>\n",
            "<class 'float'>\n"
          ]
        }
      ]
    },
    {
      "cell_type": "code",
      "metadata": {
        "id": "MGRz6LOLHn2R",
        "colab": {
          "base_uri": "https://localhost:8080/"
        },
        "outputId": "fe446e62-e525-4736-a917-0d9c6219516e"
      },
      "source": [
        "#Variables can store string.\n",
        "y = \"TAs\"\n",
        "z= 'Students'\n",
        "print(y)\n",
        "print(z)"
      ],
      "execution_count": 457,
      "outputs": [
        {
          "output_type": "stream",
          "name": "stdout",
          "text": [
            "TAs\n",
            "Students\n"
          ]
        }
      ]
    },
    {
      "cell_type": "code",
      "metadata": {
        "id": "zuBxtiRhHn2R",
        "colab": {
          "base_uri": "https://localhost:8080/"
        },
        "outputId": "c97edd23-254f-42e6-cb73-30de8e83af89"
      },
      "source": [
        "#Variables can store numbers and variable are case sensitive.\n",
        "x=4\n",
        "X=5\n",
        "print(x)\n",
        "print(X)"
      ],
      "execution_count": 458,
      "outputs": [
        {
          "output_type": "stream",
          "name": "stdout",
          "text": [
            "4\n",
            "5\n"
          ]
        }
      ]
    },
    {
      "cell_type": "code",
      "metadata": {
        "id": "rrRR7VxjHn2S",
        "colab": {
          "base_uri": "https://localhost:8080/"
        },
        "outputId": "4997e2ea-14c8-4fbf-c70a-e9493f1a01d5"
      },
      "source": [
        "#Many Values to Multiple Variables\n",
        "x , y = \"Faculties\" ,\"Students\"\n",
        "print(x,y)"
      ],
      "execution_count": 459,
      "outputs": [
        {
          "output_type": "stream",
          "name": "stdout",
          "text": [
            "Faculties Students\n"
          ]
        }
      ]
    },
    {
      "cell_type": "code",
      "metadata": {
        "id": "G8VMXMxFHn2S",
        "colab": {
          "base_uri": "https://localhost:8080/"
        },
        "outputId": "cf91ab62-c395-4a4b-bcbe-3882871e4464"
      },
      "source": [
        "#One Value to Multiple Variables\n",
        "a = b = c = \"Students\"\n",
        "print(a, b,c)"
      ],
      "execution_count": 460,
      "outputs": [
        {
          "output_type": "stream",
          "name": "stdout",
          "text": [
            "Students Students Students\n"
          ]
        }
      ]
    },
    {
      "cell_type": "code",
      "metadata": {
        "id": "ePvgx7pcHn2T",
        "colab": {
          "base_uri": "https://localhost:8080/"
        },
        "outputId": "d8aa7f24-86af-4b3b-a388-9336277b5159"
      },
      "source": [
        "#Output Variables\n",
        "a = \"python\"\n",
        "print(\"I like \" + a)"
      ],
      "execution_count": 461,
      "outputs": [
        {
          "output_type": "stream",
          "name": "stdout",
          "text": [
            "I like python\n"
          ]
        }
      ]
    },
    {
      "cell_type": "code",
      "metadata": {
        "id": "FhRxaF4-Hn2U",
        "colab": {
          "base_uri": "https://localhost:8080/"
        },
        "outputId": "a2f7d60d-5147-489d-d6c7-06d12d26a8f0"
      },
      "source": [
        "#Adding Variable of string\n",
        "a = \"python \"\n",
        "b = \"tutorial\"\n",
        "c = a+b\n",
        "print(c)"
      ],
      "execution_count": 462,
      "outputs": [
        {
          "output_type": "stream",
          "name": "stdout",
          "text": [
            "python tutorial\n"
          ]
        }
      ]
    },
    {
      "cell_type": "code",
      "metadata": {
        "id": "_nCyyhVsHn2U",
        "colab": {
          "base_uri": "https://localhost:8080/"
        },
        "outputId": "7ed1aece-a6f4-40a8-8e81-476e97a5eac7"
      },
      "source": [
        "#Adding variables of number\n",
        "a = 10\n",
        "b = 20\n",
        "c =a+b\n",
        "print(c)"
      ],
      "execution_count": 463,
      "outputs": [
        {
          "output_type": "stream",
          "name": "stdout",
          "text": [
            "30\n"
          ]
        }
      ]
    },
    {
      "cell_type": "code",
      "metadata": {
        "id": "57cBW3jiHn2U"
      },
      "source": [
        "#Note: Cannot add variables containing number and string \n",
        "# a =10\n",
        "# b =\"Python\"\n",
        "# print(a+b)\n",
        "# TypeError                                 Traceback (most recent call last)\n",
        "# <ipython-input-12-b3a0630ff6b9> in <module>\n",
        "#       1 a =10\n",
        "#       2 b =\"Python\"\n",
        "# ----> 3 print(a+b)\n",
        "\n",
        "# TypeError: unsupported operand type(s) for +: 'int' and 'str'"
      ],
      "execution_count": 464,
      "outputs": []
    },
    {
      "cell_type": "markdown",
      "metadata": {
        "id": "8rQYXf-2Hn2V"
      },
      "source": [
        "# Global and Local variable"
      ]
    },
    {
      "cell_type": "code",
      "metadata": {
        "id": "Nuan2ATqHn2V",
        "colab": {
          "base_uri": "https://localhost:8080/"
        },
        "outputId": "12542d48-5873-4282-e880-dcceb856b87e"
      },
      "source": [
        "# Global variable\n",
        "myage = \"12\"\n",
        "\n",
        "def myfunc():\n",
        "    print(\"my age is \" +myage)\n",
        "myfunc()"
      ],
      "execution_count": 465,
      "outputs": [
        {
          "output_type": "stream",
          "name": "stdout",
          "text": [
            "my age is 12\n"
          ]
        }
      ]
    },
    {
      "cell_type": "code",
      "metadata": {
        "id": "DEsrXbR1Hn2V",
        "colab": {
          "base_uri": "https://localhost:8080/"
        },
        "outputId": "8c25df29-f7dd-4781-b112-87528f7adb08"
      },
      "source": [
        "# Local Variable\n",
        "myage = \"12\"\n",
        "def myfunc():\n",
        "    myage =\"15\"\n",
        "    print(\"my age is \" +myage)\n",
        "myfunc()"
      ],
      "execution_count": 466,
      "outputs": [
        {
          "output_type": "stream",
          "name": "stdout",
          "text": [
            "my age is 15\n"
          ]
        }
      ]
    },
    {
      "cell_type": "code",
      "metadata": {
        "id": "PrIFjr1wHn2W",
        "colab": {
          "base_uri": "https://localhost:8080/"
        },
        "outputId": "67d6b8f2-4be3-4403-8244-3468b3daacde"
      },
      "source": [
        "# You can make local to global varibale \n",
        "def myfunc():\n",
        "    global myage\n",
        "    myage =\"25\"\n",
        "    \n",
        "myfunc()\n",
        "print(\"my age is \" +myage)"
      ],
      "execution_count": 467,
      "outputs": [
        {
          "output_type": "stream",
          "name": "stdout",
          "text": [
            "my age is 25\n"
          ]
        }
      ]
    },
    {
      "cell_type": "markdown",
      "metadata": {
        "id": "4C6j4mHQHn2W"
      },
      "source": [
        "## Data Types"
      ]
    },
    {
      "cell_type": "code",
      "metadata": {
        "id": "YBsbbQ-rHn2W"
      },
      "source": [
        "# Text type: str\n",
        "# Numerical Type: int, float, complex\n",
        "# Sequence Type: list, typle, range\n",
        "# Mapping Type: dict\n",
        "# Boolean Type: bool\n",
        "# Binary Type: bytes , bytearray, memoryview\n",
        "# set type: set , frozenset"
      ],
      "execution_count": 468,
      "outputs": []
    },
    {
      "cell_type": "code",
      "metadata": {
        "id": "J1LmX5-THn2X"
      },
      "source": [
        "name =\"ABCprint(type(name))\""
      ],
      "execution_count": 469,
      "outputs": []
    },
    {
      "cell_type": "markdown",
      "metadata": {
        "id": "70BDv6XHHn2X"
      },
      "source": [
        "# Python Numbers"
      ]
    },
    {
      "cell_type": "code",
      "metadata": {
        "id": "XC2Sxr7EHn2X",
        "colab": {
          "base_uri": "https://localhost:8080/"
        },
        "outputId": "e18ef944-f997-4f42-e2bc-285bb41d07ba"
      },
      "source": [
        "# int , float, complex\n",
        "a = 9 \n",
        "b = 2.5\n",
        "c = 1j\n",
        "\n",
        "print(a,b,c)\n",
        "print(type(a), type(b),type(c))"
      ],
      "execution_count": 470,
      "outputs": [
        {
          "output_type": "stream",
          "name": "stdout",
          "text": [
            "9 2.5 1j\n",
            "<class 'int'> <class 'float'> <class 'complex'>\n"
          ]
        }
      ]
    },
    {
      "cell_type": "code",
      "metadata": {
        "id": "_T9XVfN0Hn2Y",
        "colab": {
          "base_uri": "https://localhost:8080/"
        },
        "outputId": "f7face6d-1ccb-4759-a87d-12454d774d21"
      },
      "source": [
        "#Integer number can be of unlimited length\n",
        "a = 9 \n",
        "b = 877457686284\n",
        "c = -873864\n",
        "\n",
        "print(a,b,c)\n",
        "print(type(a), type(b),type(c))"
      ],
      "execution_count": 471,
      "outputs": [
        {
          "output_type": "stream",
          "name": "stdout",
          "text": [
            "9 877457686284 -873864\n",
            "<class 'int'> <class 'int'> <class 'int'>\n"
          ]
        }
      ]
    },
    {
      "cell_type": "code",
      "metadata": {
        "id": "rBe96zC_Hn2Y",
        "colab": {
          "base_uri": "https://localhost:8080/"
        },
        "outputId": "ffe8fa86-0a7e-455b-ae73-65f9e0f94ab3"
      },
      "source": [
        "#floating point number\n",
        "a = 9.6 \n",
        "b = 1.100\n",
        "c = -87.38e64 #\n",
        "d = 87E5 #87e5 #\n",
        "\n",
        "print(a,b,c)\n",
        "print(type(a), type(b),type(c),type(d))"
      ],
      "execution_count": 472,
      "outputs": [
        {
          "output_type": "stream",
          "name": "stdout",
          "text": [
            "9.6 1.1 -8.738e+65\n",
            "<class 'float'> <class 'float'> <class 'float'> <class 'float'>\n"
          ]
        }
      ]
    },
    {
      "cell_type": "code",
      "metadata": {
        "id": "brX7cGuyHn2Y",
        "colab": {
          "base_uri": "https://localhost:8080/"
        },
        "outputId": "c7f61be4-bd36-41f7-a330-9dd4aec513ce"
      },
      "source": [
        "#Complex numbers\n",
        "x = 1j\n",
        "y = -5j\n",
        "z = 4+7j\n",
        "\n",
        "print(type(x), type(y),type(z))"
      ],
      "execution_count": 473,
      "outputs": [
        {
          "output_type": "stream",
          "name": "stdout",
          "text": [
            "<class 'complex'> <class 'complex'> <class 'complex'>\n"
          ]
        }
      ]
    },
    {
      "cell_type": "code",
      "metadata": {
        "id": "jnPw4SpoHn2Z",
        "colab": {
          "base_uri": "https://localhost:8080/"
        },
        "outputId": "02052817-8534-4392-819d-1ba829d45aa2"
      },
      "source": [
        "#Type Conversion\n",
        "x = 1\n",
        "y = -5\n",
        "z = 4.6\n",
        "\n",
        "a = float(x)\n",
        "b= complex(-5)\n",
        "c= int(z)\n",
        "\n",
        "print(type(a), type(b),type(c))"
      ],
      "execution_count": 474,
      "outputs": [
        {
          "output_type": "stream",
          "name": "stdout",
          "text": [
            "<class 'float'> <class 'complex'> <class 'int'>\n"
          ]
        }
      ]
    },
    {
      "cell_type": "code",
      "metadata": {
        "id": "WTs_OutgHn2Z",
        "colab": {
          "base_uri": "https://localhost:8080/"
        },
        "outputId": "d24f5cbc-b6b1-4da6-de72-299e8b5c4f70"
      },
      "source": [
        "#Random Number\n",
        "import random\n",
        "print(random.randrange(1,20))"
      ],
      "execution_count": 475,
      "outputs": [
        {
          "output_type": "stream",
          "name": "stdout",
          "text": [
            "1\n"
          ]
        }
      ]
    },
    {
      "cell_type": "markdown",
      "metadata": {
        "id": "mq1grXJ2Hn2Z"
      },
      "source": [
        "# Python Casting"
      ]
    },
    {
      "cell_type": "code",
      "metadata": {
        "id": "k2h8Mb6lHn2Z"
      },
      "source": [
        "# use int(), float(), str()"
      ],
      "execution_count": 476,
      "outputs": []
    },
    {
      "cell_type": "code",
      "metadata": {
        "id": "kFWQmU7qHn2Z",
        "colab": {
          "base_uri": "https://localhost:8080/"
        },
        "outputId": "a7c15caf-97d4-4eac-efb8-a59257a334d7"
      },
      "source": [
        "x = 1\n",
        "y = 5\n",
        "z = 4.6\n",
        "\n",
        "x = float(1)\n",
        "y = str(5)\n",
        "z = int(4.6)\n",
        "\n",
        "print(x)\n",
        "print(y)\n",
        "print(z)\n",
        "\n",
        "print(type(x), type(y),type(z))"
      ],
      "execution_count": 477,
      "outputs": [
        {
          "output_type": "stream",
          "name": "stdout",
          "text": [
            "1.0\n",
            "5\n",
            "4\n",
            "<class 'float'> <class 'str'> <class 'int'>\n"
          ]
        }
      ]
    },
    {
      "cell_type": "markdown",
      "metadata": {
        "id": "fDuGaHshHn2a"
      },
      "source": [
        "# Python String"
      ]
    },
    {
      "cell_type": "code",
      "metadata": {
        "id": "bpH_mIfpHn2a",
        "colab": {
          "base_uri": "https://localhost:8080/"
        },
        "outputId": "eb7cf19a-da07-4542-dde0-333df5dfd1e3"
      },
      "source": [
        "print(\"ABC\")\n",
        "print('ABC')"
      ],
      "execution_count": 478,
      "outputs": [
        {
          "output_type": "stream",
          "name": "stdout",
          "text": [
            "ABC\n",
            "ABC\n"
          ]
        }
      ]
    },
    {
      "cell_type": "code",
      "metadata": {
        "id": "dbX1bH0zHn2a",
        "colab": {
          "base_uri": "https://localhost:8080/"
        },
        "outputId": "49ae3547-e4f3-4f0b-d7f7-d548bbd6aef5"
      },
      "source": [
        "myname = \"ABC\"\n",
        "print(myname)"
      ],
      "execution_count": 479,
      "outputs": [
        {
          "output_type": "stream",
          "name": "stdout",
          "text": [
            "ABC\n"
          ]
        }
      ]
    },
    {
      "cell_type": "code",
      "metadata": {
        "id": "ErOFm_LkHn2a",
        "colab": {
          "base_uri": "https://localhost:8080/"
        },
        "outputId": "5cc621c6-0af4-4743-d0ca-3f11c0c7ceeb"
      },
      "source": [
        "myname = 'ABC'\n",
        "print(myname)"
      ],
      "execution_count": 480,
      "outputs": [
        {
          "output_type": "stream",
          "name": "stdout",
          "text": [
            "ABC\n"
          ]
        }
      ]
    },
    {
      "cell_type": "markdown",
      "metadata": {
        "id": "M3II6JpYHn2b"
      },
      "source": [
        "# Strings are Arrays"
      ]
    },
    {
      "cell_type": "code",
      "metadata": {
        "id": "iqWPhqjlHn2b",
        "colab": {
          "base_uri": "https://localhost:8080/"
        },
        "outputId": "2ba5d3c4-273d-4b8a-ca30-73798dbab83e"
      },
      "source": [
        "myname = \"ABC\"\n",
        "print(myname[2])"
      ],
      "execution_count": 481,
      "outputs": [
        {
          "output_type": "stream",
          "name": "stdout",
          "text": [
            "C\n"
          ]
        }
      ]
    },
    {
      "cell_type": "code",
      "metadata": {
        "id": "ThetzmVUHn2b",
        "colab": {
          "base_uri": "https://localhost:8080/"
        },
        "outputId": "e0743293-2cc1-4855-db62-67f1de44f82a"
      },
      "source": [
        "#Loop to access String\n",
        "for x in myname:\n",
        "    print(x)"
      ],
      "execution_count": 482,
      "outputs": [
        {
          "output_type": "stream",
          "name": "stdout",
          "text": [
            "A\n",
            "B\n",
            "C\n"
          ]
        }
      ]
    },
    {
      "cell_type": "code",
      "metadata": {
        "id": "ryCpEy2nHn2b",
        "colab": {
          "base_uri": "https://localhost:8080/"
        },
        "outputId": "7329d52b-47ff-4b07-8620-d29e5cf2e22b"
      },
      "source": [
        "#lengh of string\n",
        "myname = \"ABC\"\n",
        "print(len(myname))"
      ],
      "execution_count": 483,
      "outputs": [
        {
          "output_type": "stream",
          "name": "stdout",
          "text": [
            "3\n"
          ]
        }
      ]
    },
    {
      "cell_type": "code",
      "metadata": {
        "id": "_tSTHyqJHn2b",
        "colab": {
          "base_uri": "https://localhost:8080/"
        },
        "outputId": "2fb43601-89a1-4162-94ac-40d00406c735"
      },
      "source": [
        "#in keyword\n",
        "myname = \"My name is ABC\"\n",
        "print(\"name\" in myname)"
      ],
      "execution_count": 484,
      "outputs": [
        {
          "output_type": "stream",
          "name": "stdout",
          "text": [
            "True\n"
          ]
        }
      ]
    },
    {
      "cell_type": "code",
      "metadata": {
        "id": "V9oQ7znMHn2c",
        "colab": {
          "base_uri": "https://localhost:8080/"
        },
        "outputId": "612cf871-2ecc-4f1f-b827-544166ff1282"
      },
      "source": [
        "#not in keyword\n",
        "myname = \"My name is ABC\"\n",
        "print(\"name\" not in myname)"
      ],
      "execution_count": 485,
      "outputs": [
        {
          "output_type": "stream",
          "name": "stdout",
          "text": [
            "False\n"
          ]
        }
      ]
    },
    {
      "cell_type": "code",
      "metadata": {
        "id": "heGQehPkHn2c",
        "colab": {
          "base_uri": "https://localhost:8080/"
        },
        "outputId": "01cbc800-7d1f-4e1c-d960-d87459508034"
      },
      "source": [
        "# if condition to check for substring\n",
        "myname = \"My name is ABC\"\n",
        "if \"age\" not in myname:\n",
        "    print(\"See \",myname )"
      ],
      "execution_count": 486,
      "outputs": [
        {
          "output_type": "stream",
          "name": "stdout",
          "text": [
            "See  My name is ABC\n"
          ]
        }
      ]
    },
    {
      "cell_type": "markdown",
      "metadata": {
        "id": "YzTDLU_bHn2c"
      },
      "source": [
        "# Slicing String"
      ]
    },
    {
      "cell_type": "code",
      "metadata": {
        "id": "GNln-XT2Hn2c",
        "colab": {
          "base_uri": "https://localhost:8080/"
        },
        "outputId": "cb04d8df-a5c3-4ded-daad-a3e49e7d5112"
      },
      "source": [
        "myname = \"My name is ABC\"\n",
        "print(myname[1:6]) #print upto 6-1 index"
      ],
      "execution_count": 487,
      "outputs": [
        {
          "output_type": "stream",
          "name": "stdout",
          "text": [
            "y nam\n"
          ]
        }
      ]
    },
    {
      "cell_type": "code",
      "metadata": {
        "id": "fz9_LdthHn2c",
        "colab": {
          "base_uri": "https://localhost:8080/"
        },
        "outputId": "8867dea9-3e58-452f-cf1b-eddd4ffc669a"
      },
      "source": [
        "myname = \"My name is ABC\"\n",
        "print(myname[:6])"
      ],
      "execution_count": 488,
      "outputs": [
        {
          "output_type": "stream",
          "name": "stdout",
          "text": [
            "My nam\n"
          ]
        }
      ]
    },
    {
      "cell_type": "code",
      "metadata": {
        "id": "rHApC310Hn2d",
        "colab": {
          "base_uri": "https://localhost:8080/"
        },
        "outputId": "bf0f2805-f186-49cc-d1c0-e8306a1984a9"
      },
      "source": [
        "myname = \"My name is ABC\"\n",
        "print(myname[1:])"
      ],
      "execution_count": 489,
      "outputs": [
        {
          "output_type": "stream",
          "name": "stdout",
          "text": [
            "y name is ABC\n"
          ]
        }
      ]
    },
    {
      "cell_type": "code",
      "metadata": {
        "id": "QuOKyfEqHn2d",
        "colab": {
          "base_uri": "https://localhost:8080/"
        },
        "outputId": "6360d1e4-7e3e-4390-a9e9-cbbb03876d76"
      },
      "source": [
        "myname = \"My name is ABC\"\n",
        "print(myname[-6:-3]) "
      ],
      "execution_count": 490,
      "outputs": [
        {
          "output_type": "stream",
          "name": "stdout",
          "text": [
            "is \n"
          ]
        }
      ]
    },
    {
      "cell_type": "markdown",
      "metadata": {
        "id": "hYgacDAVHn2d"
      },
      "source": [
        "# Modify String"
      ]
    },
    {
      "cell_type": "code",
      "metadata": {
        "id": "jaHK28zpHn2d",
        "colab": {
          "base_uri": "https://localhost:8080/"
        },
        "outputId": "8987fa2c-5611-4fb1-c72c-0d719d1b951e"
      },
      "source": [
        "myname = \"My name is ABC\"\n",
        "print(myname.upper())"
      ],
      "execution_count": 491,
      "outputs": [
        {
          "output_type": "stream",
          "name": "stdout",
          "text": [
            "MY NAME IS ABC\n"
          ]
        }
      ]
    },
    {
      "cell_type": "code",
      "metadata": {
        "id": "zfRTleXhHn2d",
        "colab": {
          "base_uri": "https://localhost:8080/"
        },
        "outputId": "a4f1bd5e-fb38-4234-94a5-a8d2c86a7d80"
      },
      "source": [
        "myname = \"My Name is ABC\"\n",
        "print(myname.lower())"
      ],
      "execution_count": 492,
      "outputs": [
        {
          "output_type": "stream",
          "name": "stdout",
          "text": [
            "my name is abc\n"
          ]
        }
      ]
    },
    {
      "cell_type": "code",
      "metadata": {
        "id": "cFB1VzWAHn2e",
        "colab": {
          "base_uri": "https://localhost:8080/"
        },
        "outputId": "46156626-ae23-43b9-ed47-3b430c1530da"
      },
      "source": [
        "#strip method\n",
        "myname = \"       My name is ABC \"\n",
        "print(myname)\n",
        "print(myname.strip())"
      ],
      "execution_count": 493,
      "outputs": [
        {
          "output_type": "stream",
          "name": "stdout",
          "text": [
            "       My name is ABC \n",
            "My name is ABC\n"
          ]
        }
      ]
    },
    {
      "cell_type": "code",
      "metadata": {
        "id": "JbTN9WeiHn2e",
        "colab": {
          "base_uri": "https://localhost:8080/"
        },
        "outputId": "42bee3e0-bce4-43df-9d9f-4432ad5ac652"
      },
      "source": [
        "myname = \"My name is ABC\"\n",
        "print(myname.replace(\"u\", \"am\"))"
      ],
      "execution_count": 494,
      "outputs": [
        {
          "output_type": "stream",
          "name": "stdout",
          "text": [
            "My name is ABC\n"
          ]
        }
      ]
    },
    {
      "cell_type": "code",
      "metadata": {
        "id": "nYmri49rHn2e",
        "colab": {
          "base_uri": "https://localhost:8080/"
        },
        "outputId": "18f8c495-4327-4bc5-b506-d6f8f5e65314"
      },
      "source": [
        "myname = \"My name , ABC\"\n",
        "print(myname.split(\",\"))\n",
        "\n",
        "myname = \"My name is ABC\"\n",
        "print(myname.split(\"is\"))\n"
      ],
      "execution_count": 495,
      "outputs": [
        {
          "output_type": "stream",
          "name": "stdout",
          "text": [
            "['My name ', ' ABC']\n",
            "['My name ', ' ABC']\n"
          ]
        }
      ]
    },
    {
      "cell_type": "code",
      "metadata": {
        "id": "2r3Fj7oCHn2e",
        "colab": {
          "base_uri": "https://localhost:8080/"
        },
        "outputId": "c5081426-f8ad-4514-cae4-a45f6be6e6a4"
      },
      "source": [
        "myname = \"My name is ABC, \"\n",
        "age = \"My age is 22\"\n",
        "a = myname + age\n",
        "print(a)"
      ],
      "execution_count": 496,
      "outputs": [
        {
          "output_type": "stream",
          "name": "stdout",
          "text": [
            "My name is ABC, My age is 22\n"
          ]
        }
      ]
    },
    {
      "cell_type": "code",
      "metadata": {
        "id": "7fNHdReYHn2e",
        "colab": {
          "base_uri": "https://localhost:8080/"
        },
        "outputId": "3ca487c7-cb22-4133-aeaa-3146092fe639"
      },
      "source": [
        "myname = \"My name is ABC, \"\n",
        "age = \"My age is 22\"\n",
        "\n",
        "print(myname + age)"
      ],
      "execution_count": 497,
      "outputs": [
        {
          "output_type": "stream",
          "name": "stdout",
          "text": [
            "My name is ABC, My age is 22\n"
          ]
        }
      ]
    },
    {
      "cell_type": "code",
      "metadata": {
        "id": "o2y3wPwMHn2f",
        "colab": {
          "base_uri": "https://localhost:8080/"
        },
        "outputId": "2e319d1a-fa77-494d-a668-8660e4b82e20"
      },
      "source": [
        "myname = \"My name is ABC\"\n",
        "age = \"My age is 22\"\n",
        "a = myname +\", \"+age\n",
        "print(a)"
      ],
      "execution_count": 498,
      "outputs": [
        {
          "output_type": "stream",
          "name": "stdout",
          "text": [
            "My name is ABC, My age is 22\n"
          ]
        }
      ]
    },
    {
      "cell_type": "markdown",
      "metadata": {
        "id": "c70IqEPeHn2f"
      },
      "source": [
        "# String Format"
      ]
    },
    {
      "cell_type": "code",
      "metadata": {
        "id": "v91KHSJ0Hn2f",
        "colab": {
          "base_uri": "https://localhost:8080/"
        },
        "outputId": "15596dd2-ffd0-4d7d-f2dc-7ebe17b15079"
      },
      "source": [
        "\n",
        "age = \"22\"\n",
        "myname = \"My name is ABC, I am {} \"\n",
        "\n",
        "print(myname.format(age))"
      ],
      "execution_count": 499,
      "outputs": [
        {
          "output_type": "stream",
          "name": "stdout",
          "text": [
            "My name is ABC, I am 22 \n"
          ]
        }
      ]
    },
    {
      "cell_type": "code",
      "metadata": {
        "id": "YeRizDuyHn2f",
        "colab": {
          "base_uri": "https://localhost:8080/"
        },
        "outputId": "3ff7a65c-675e-4e46-c15c-6b097cb54dfd"
      },
      "source": [
        "age = \"22\"\n",
        "salary =\"70k \"\n",
        "myname = \"My name is ABC, I am {}, I am getting {} \"\n",
        "\n",
        "print(myname.format(age , salary))"
      ],
      "execution_count": 500,
      "outputs": [
        {
          "output_type": "stream",
          "name": "stdout",
          "text": [
            "My name is ABC, I am 22, I am getting 70k  \n"
          ]
        }
      ]
    },
    {
      "cell_type": "code",
      "metadata": {
        "id": "97AtSIoBHn2f",
        "colab": {
          "base_uri": "https://localhost:8080/"
        },
        "outputId": "261a01f2-a679-4eed-ee96-de03f4a6157f"
      },
      "source": [
        "age = \"22\"\n",
        "salary =\"70k \"\n",
        "myname = \"My name is ABC, I am {}, I am getting {} \"\n",
        "\n",
        "print(myname.format(salary,age))"
      ],
      "execution_count": 501,
      "outputs": [
        {
          "output_type": "stream",
          "name": "stdout",
          "text": [
            "My name is ABC, I am 70k , I am getting 22 \n"
          ]
        }
      ]
    },
    {
      "cell_type": "code",
      "metadata": {
        "id": "aAJd8LrMHn2g",
        "colab": {
          "base_uri": "https://localhost:8080/"
        },
        "outputId": "eb03bbe2-ac6d-4825-833b-d8edf8aaac26"
      },
      "source": [
        "age = \"22\"\n",
        "salary =\"70k \"\n",
        "myname = \"My name is ABC, I am {1}, I am getting {0} \"\n",
        "\n",
        "print(myname.format(age , salary))"
      ],
      "execution_count": 502,
      "outputs": [
        {
          "output_type": "stream",
          "name": "stdout",
          "text": [
            "My name is ABC, I am 70k , I am getting 22 \n"
          ]
        }
      ]
    },
    {
      "cell_type": "code",
      "metadata": {
        "id": "2a0eI01eHn2g",
        "colab": {
          "base_uri": "https://localhost:8080/"
        },
        "outputId": "87930015-2431-4bb9-e59f-1bf887f1b80d"
      },
      "source": [
        "#Escape character \\\n",
        "myname = \"My name is ABC \\\" I \\\"am 26, I am getting 70k \"\n",
        "print(myname)"
      ],
      "execution_count": 503,
      "outputs": [
        {
          "output_type": "stream",
          "name": "stdout",
          "text": [
            "My name is ABC \" I \"am 26, I am getting 70k \n"
          ]
        }
      ]
    },
    {
      "cell_type": "code",
      "metadata": {
        "id": "_skFIJUxHn2g",
        "colab": {
          "base_uri": "https://localhost:8080/"
        },
        "outputId": "5590f3af-2452-4800-c2d8-b4cad40eefed"
      },
      "source": [
        "#string methods\n",
        "s = \"hello\"\n",
        "print(s.capitalize())  # Capitalize a string\n",
        "print(s.upper())       # Convert a string to uppercase; prints \"HELLO\"\n",
        "print(s.rjust(7))      # Right-justify a string, padding with spaces\n",
        "print(s.center(7))     # Center a string, padding with spaces\n",
        "print(s.replace('l', '(ell)'))  # Replace all instances of one substring with another\n",
        "print('  world '.strip())  # Strip leading and trailing whitespac\n"
      ],
      "execution_count": 504,
      "outputs": [
        {
          "output_type": "stream",
          "name": "stdout",
          "text": [
            "Hello\n",
            "HELLO\n",
            "  hello\n",
            " hello \n",
            "he(ell)(ell)o\n",
            "world\n"
          ]
        }
      ]
    },
    {
      "cell_type": "markdown",
      "metadata": {
        "id": "SQFJhtR1Hn2g"
      },
      "source": [
        "# Python Booleans"
      ]
    },
    {
      "cell_type": "code",
      "metadata": {
        "id": "7Lm6ZZK4Hn2g",
        "colab": {
          "base_uri": "https://localhost:8080/"
        },
        "outputId": "b5febb95-aa39-4887-9223-8e3b95faff39"
      },
      "source": [
        "#true, false to compare two values.\n",
        "print(20==10)\n",
        "print(20>10)\n",
        "print(20<10)\n"
      ],
      "execution_count": 505,
      "outputs": [
        {
          "output_type": "stream",
          "name": "stdout",
          "text": [
            "False\n",
            "True\n",
            "False\n"
          ]
        }
      ]
    },
    {
      "cell_type": "code",
      "metadata": {
        "id": "NSFLQ78iHn2h",
        "colab": {
          "base_uri": "https://localhost:8080/"
        },
        "outputId": "049ef0f3-ee6e-41b8-996a-bd19f952054a"
      },
      "source": [
        "x = 20\n",
        "y = 10\n",
        "if y > x:\n",
        "    print(\"x is greater than y\")\n",
        "else:\n",
        "    print(\"y is not greater than x\")"
      ],
      "execution_count": 506,
      "outputs": [
        {
          "output_type": "stream",
          "name": "stdout",
          "text": [
            "y is not greater than x\n"
          ]
        }
      ]
    },
    {
      "cell_type": "code",
      "metadata": {
        "id": "RV85kEMOHn2h",
        "colab": {
          "base_uri": "https://localhost:8080/"
        },
        "outputId": "ae40e96c-0828-40d2-c2dd-ed7da05f3194"
      },
      "source": [
        "a =\"ABC\"\n",
        "b=\"\"\n",
        "print(bool(a))\n",
        "print(bool(b)) #false for empty string\n",
        "print(bool())#false for empty string\n",
        "print(bool(20))"
      ],
      "execution_count": 507,
      "outputs": [
        {
          "output_type": "stream",
          "name": "stdout",
          "text": [
            "True\n",
            "False\n",
            "False\n",
            "True\n"
          ]
        }
      ]
    },
    {
      "cell_type": "code",
      "metadata": {
        "id": "4OVeE8HcHn2h",
        "colab": {
          "base_uri": "https://localhost:8080/"
        },
        "outputId": "7fbd4de4-8dfc-4b6e-b8ed-e6fa79f01e16"
      },
      "source": [
        "# Example which will be false\n",
        "bool(None)\n",
        "bool(\"\")\n",
        "bool(False)\n",
        "bool(())\n",
        "bool([])\n",
        "bool({})\n",
        "bool(0)"
      ],
      "execution_count": 508,
      "outputs": [
        {
          "output_type": "execute_result",
          "data": {
            "text/plain": [
              "False"
            ]
          },
          "metadata": {},
          "execution_count": 508
        }
      ]
    },
    {
      "cell_type": "code",
      "metadata": {
        "id": "yo6lkboAHn2h",
        "colab": {
          "base_uri": "https://localhost:8080/"
        },
        "outputId": "801b39bd-d312-49b4-c8cf-4bc6589a6ae5"
      },
      "source": [
        "def age():\n",
        "    return True\n",
        "print(age())"
      ],
      "execution_count": 509,
      "outputs": [
        {
          "output_type": "stream",
          "name": "stdout",
          "text": [
            "True\n"
          ]
        }
      ]
    },
    {
      "cell_type": "markdown",
      "metadata": {
        "id": "Zf609-XNHn2h"
      },
      "source": [
        "# Python Operator"
      ]
    },
    {
      "cell_type": "code",
      "metadata": {
        "id": "31BvkaLfHn2i",
        "colab": {
          "base_uri": "https://localhost:8080/"
        },
        "outputId": "c9c05551-f0b6-4aef-c222-0c68b5484c6a"
      },
      "source": [
        "print(20+40)"
      ],
      "execution_count": 510,
      "outputs": [
        {
          "output_type": "stream",
          "name": "stdout",
          "text": [
            "60\n"
          ]
        }
      ]
    },
    {
      "cell_type": "code",
      "metadata": {
        "id": "T7uLEBLBHn2i"
      },
      "source": [
        "# Arithmetic Operators +,-, *, /,%,**\n",
        "# Assignment Operator =,+=,-+,*=,/=, %= etc\n",
        "# Comparsion ==,!=, >,<,>=,<=\n",
        "# Logical ex. AND, OR,NOT\n",
        "# Identity ex. is , is not\n",
        "# Membership operator: in , not in\n",
        "# Bitwise: &, |, ^, ~, <<,>>"
      ],
      "execution_count": 511,
      "outputs": []
    },
    {
      "cell_type": "code",
      "metadata": {
        "id": "13yERiy5Hn2i",
        "colab": {
          "base_uri": "https://localhost:8080/"
        },
        "outputId": "72e485f3-4330-4d51-d916-484d7e197fef"
      },
      "source": [
        "print(10==20)# Comparision operator\n",
        "x = [\"ABC\", \"Verma\"]\n",
        "y = [\"Red\", \"Green\"]\n",
        "\n",
        "z= x\n",
        "print(x is y)#Identity operator\n",
        "print(z is x)#Identity operator\n"
      ],
      "execution_count": 512,
      "outputs": [
        {
          "output_type": "stream",
          "name": "stdout",
          "text": [
            "False\n",
            "False\n",
            "True\n"
          ]
        }
      ]
    },
    {
      "cell_type": "code",
      "metadata": {
        "id": "levJJNFEHn2i",
        "colab": {
          "base_uri": "https://localhost:8080/"
        },
        "outputId": "d409085c-0f9d-40f3-e30a-78ae7907b629"
      },
      "source": [
        "# Membership operator\n",
        "x = [\"ABC\", \"Verma\"]\n",
        "print(\"red\" in x)\n",
        "print(\"Verma\" in x)"
      ],
      "execution_count": 513,
      "outputs": [
        {
          "output_type": "stream",
          "name": "stdout",
          "text": [
            "False\n",
            "True\n"
          ]
        }
      ]
    },
    {
      "cell_type": "markdown",
      "metadata": {
        "id": "fy9_eAAiHn2i"
      },
      "source": [
        "# Python List\n",
        "Lists are used to store multiple items in a single variable.\n",
        "List items are ordered, changeable, and allow duplicate values."
      ]
    },
    {
      "cell_type": "code",
      "metadata": {
        "id": "MBJHuOMUHn2i",
        "colab": {
          "base_uri": "https://localhost:8080/"
        },
        "outputId": "74420432-1762-4e64-f5fe-5bb2ba2c5f42"
      },
      "source": [
        "mylist = [\"Name\", \"age\", \"college\",\"age\"]\n",
        "print(mylist)\n",
        "print(len(mylist))"
      ],
      "execution_count": 514,
      "outputs": [
        {
          "output_type": "stream",
          "name": "stdout",
          "text": [
            "['Name', 'age', 'college', 'age']\n",
            "4\n"
          ]
        }
      ]
    },
    {
      "cell_type": "code",
      "metadata": {
        "id": "N63cP1fYHn2j",
        "colab": {
          "base_uri": "https://localhost:8080/"
        },
        "outputId": "d6156e89-9cc2-4a15-d100-7ce53644b4c1"
      },
      "source": [
        "mylist = [\"Name\", \"age\", \"college\",\"age\"] #string data type\n",
        "age = [20,30,40,50] #int data type\n",
        "abc = [True, True, False] #boolean data type\n",
        "\n",
        "print(mylist)\n",
        "print(age)\n",
        "print(abc)\n",
        "\n",
        "print(type(mylist))\n",
        "print(type(age))\n",
        "print(type(abc))\n",
        "\n",
        "print(len(mylist))"
      ],
      "execution_count": 515,
      "outputs": [
        {
          "output_type": "stream",
          "name": "stdout",
          "text": [
            "['Name', 'age', 'college', 'age']\n",
            "[20, 30, 40, 50]\n",
            "[True, True, False]\n",
            "<class 'list'>\n",
            "<class 'list'>\n",
            "<class 'list'>\n",
            "4\n"
          ]
        }
      ]
    },
    {
      "cell_type": "code",
      "metadata": {
        "id": "Me5OPdSlHn2j",
        "colab": {
          "base_uri": "https://localhost:8080/"
        },
        "outputId": "88cf1831-7957-4025-d417-2a4b3d8b65fb"
      },
      "source": [
        "#List constructor list()\n",
        "list1 = list((\"ABC\", \"25\", \"IITJ\"))\n",
        "print(list1)\n"
      ],
      "execution_count": 516,
      "outputs": [
        {
          "output_type": "stream",
          "name": "stdout",
          "text": [
            "['ABC', '25', 'IITJ']\n"
          ]
        }
      ]
    },
    {
      "cell_type": "markdown",
      "metadata": {
        "id": "sHleNpauHn2j"
      },
      "source": [
        "# Access List Items"
      ]
    },
    {
      "cell_type": "code",
      "metadata": {
        "id": "uF-WfREhHn2j",
        "scrolled": true,
        "colab": {
          "base_uri": "https://localhost:8080/"
        },
        "outputId": "ab0a967a-dca6-4b6a-e8b3-4cf5cf482244"
      },
      "source": [
        "mylist = [\"Name\", \"age\", \"college\",\"age\"]\n",
        "print(mylist[0])\n",
        "print(mylist[1])"
      ],
      "execution_count": 517,
      "outputs": [
        {
          "output_type": "stream",
          "name": "stdout",
          "text": [
            "Name\n",
            "age\n"
          ]
        }
      ]
    },
    {
      "cell_type": "code",
      "metadata": {
        "id": "NNieagYmHn2j",
        "colab": {
          "base_uri": "https://localhost:8080/"
        },
        "outputId": "02facc36-aa2b-49b8-91cf-7743c2ff82e5"
      },
      "source": [
        "mylist = [\"Name\", \"age\", \"college\",\"age\"]\n",
        "print(mylist[-1])\n",
        "print(mylist[-2])"
      ],
      "execution_count": 518,
      "outputs": [
        {
          "output_type": "stream",
          "name": "stdout",
          "text": [
            "age\n",
            "college\n"
          ]
        }
      ]
    },
    {
      "cell_type": "code",
      "metadata": {
        "id": "2DEHGDQDHn2k",
        "colab": {
          "base_uri": "https://localhost:8080/"
        },
        "outputId": "f59a4e08-75d4-4e15-9436-f0b12d83582f"
      },
      "source": [
        "mylist = [\"Name\", \"age\", \"college\",\"age\"]\n",
        "print(mylist[0:2])\n",
        "print(mylist[:2])\n",
        "print(mylist[2:])\n",
        "print(mylist[-3:-1])\n"
      ],
      "execution_count": 519,
      "outputs": [
        {
          "output_type": "stream",
          "name": "stdout",
          "text": [
            "['Name', 'age']\n",
            "['Name', 'age']\n",
            "['college', 'age']\n",
            "['age', 'college']\n"
          ]
        }
      ]
    },
    {
      "cell_type": "markdown",
      "metadata": {
        "id": "SabP95kvHn2k"
      },
      "source": [
        "# Python Tuples\n",
        "A tuple is a collection which is ordered, unchangeable, and allow duplicate values"
      ]
    },
    {
      "cell_type": "code",
      "metadata": {
        "id": "GMWBvGY9Hn2k",
        "colab": {
          "base_uri": "https://localhost:8080/"
        },
        "outputId": "8483127c-acb6-4b3b-f4a3-db75c362864e"
      },
      "source": [
        "mytuple = (\"name\", 26, \"salary\")\n",
        "print(mytuple)"
      ],
      "execution_count": 520,
      "outputs": [
        {
          "output_type": "stream",
          "name": "stdout",
          "text": [
            "('name', 26, 'salary')\n"
          ]
        }
      ]
    },
    {
      "cell_type": "code",
      "metadata": {
        "id": "jJPCCU-hHn2k",
        "colab": {
          "base_uri": "https://localhost:8080/"
        },
        "outputId": "3471819f-ade8-4c3e-8e0d-246b51f7d25e"
      },
      "source": [
        "mytuple = (\"name\", 26, \"salary\",\"name\")\n",
        "print(mytuple)"
      ],
      "execution_count": 521,
      "outputs": [
        {
          "output_type": "stream",
          "name": "stdout",
          "text": [
            "('name', 26, 'salary', 'name')\n"
          ]
        }
      ]
    },
    {
      "cell_type": "code",
      "metadata": {
        "id": "SDUzyfRUHn2k",
        "colab": {
          "base_uri": "https://localhost:8080/"
        },
        "outputId": "5e3e0777-7a20-4d89-d47a-b70d9feabbee"
      },
      "source": [
        "mytuple = (\"name\", 26, \"salary\",\"name\")\n",
        "print(len(mytuple))"
      ],
      "execution_count": 522,
      "outputs": [
        {
          "output_type": "stream",
          "name": "stdout",
          "text": [
            "4\n"
          ]
        }
      ]
    },
    {
      "cell_type": "code",
      "metadata": {
        "id": "uXbcXXVTHn2k",
        "colab": {
          "base_uri": "https://localhost:8080/"
        },
        "outputId": "baace47a-df9a-403e-e082-ac5cece5000a"
      },
      "source": [
        "mytuple =(\"name\")\n",
        "print(type(mytuple))"
      ],
      "execution_count": 523,
      "outputs": [
        {
          "output_type": "stream",
          "name": "stdout",
          "text": [
            "<class 'str'>\n"
          ]
        }
      ]
    },
    {
      "cell_type": "code",
      "metadata": {
        "id": "I_6misa6Hn2l",
        "colab": {
          "base_uri": "https://localhost:8080/"
        },
        "outputId": "66aa5360-1a1f-4a73-8ff4-6e460f14e261"
      },
      "source": [
        "mytuple =(\"name\",)\n",
        "print(type(mytuple))"
      ],
      "execution_count": 524,
      "outputs": [
        {
          "output_type": "stream",
          "name": "stdout",
          "text": [
            "<class 'tuple'>\n"
          ]
        }
      ]
    },
    {
      "cell_type": "code",
      "metadata": {
        "id": "M-i74TVSHn2l",
        "colab": {
          "base_uri": "https://localhost:8080/"
        },
        "outputId": "239e4e1c-36b8-4d78-8b14-a5cdd4b72e90"
      },
      "source": [
        "mytuple = (\"Name\", \"age\", \"college\",\"age\") #string data type\n",
        "age = (20,30,40,50) #int data type\n",
        "abc = (True, True, False) #boolean data type\n",
        "\n",
        "print(mytuple)\n",
        "print(age)\n",
        "print(abc)\n",
        "\n",
        "print(type(mytuple))\n",
        "print(type(age))\n",
        "print(type(abc))\n",
        "\n",
        "print(len(mytuple))"
      ],
      "execution_count": 525,
      "outputs": [
        {
          "output_type": "stream",
          "name": "stdout",
          "text": [
            "('Name', 'age', 'college', 'age')\n",
            "(20, 30, 40, 50)\n",
            "(True, True, False)\n",
            "<class 'tuple'>\n",
            "<class 'tuple'>\n",
            "<class 'tuple'>\n",
            "4\n"
          ]
        }
      ]
    },
    {
      "cell_type": "code",
      "metadata": {
        "id": "V8zp49GKHn2l",
        "colab": {
          "base_uri": "https://localhost:8080/"
        },
        "outputId": "d3bf31a4-e497-468e-b714-3b93b7191314"
      },
      "source": [
        "mytuple = (\"Name\", 26, \"college\",True)\n",
        "print(mytuple)"
      ],
      "execution_count": 526,
      "outputs": [
        {
          "output_type": "stream",
          "name": "stdout",
          "text": [
            "('Name', 26, 'college', True)\n"
          ]
        }
      ]
    },
    {
      "cell_type": "code",
      "metadata": {
        "id": "ofsC1hg_Hn2l",
        "colab": {
          "base_uri": "https://localhost:8080/"
        },
        "outputId": "c265a618-699d-414d-8d9f-9b46ecc3dab6"
      },
      "source": [
        "#tuple constructor\n",
        "mytuple = tuple((\"Name\", 26, \"college\",True))\n",
        "print(mytuple)"
      ],
      "execution_count": 527,
      "outputs": [
        {
          "output_type": "stream",
          "name": "stdout",
          "text": [
            "('Name', 26, 'college', True)\n"
          ]
        }
      ]
    },
    {
      "cell_type": "markdown",
      "metadata": {
        "id": "SdgQ7UYDHn2m"
      },
      "source": [
        "# Access Tuple"
      ]
    },
    {
      "cell_type": "code",
      "metadata": {
        "id": "SOvZQVoaHn2m",
        "colab": {
          "base_uri": "https://localhost:8080/"
        },
        "outputId": "ffd8e555-4dce-4954-efc2-3dbc76f6c4ff"
      },
      "source": [
        "mytuple = (\"Name\", 26, \"college\",True)\n",
        "print(mytuple[1])"
      ],
      "execution_count": 528,
      "outputs": [
        {
          "output_type": "stream",
          "name": "stdout",
          "text": [
            "26\n"
          ]
        }
      ]
    },
    {
      "cell_type": "code",
      "metadata": {
        "id": "iM5OfFhyHn2m",
        "colab": {
          "base_uri": "https://localhost:8080/"
        },
        "outputId": "a89fd4a3-7f47-4a2c-f151-27c766e0ff4b"
      },
      "source": [
        "mytuple = (\"Name\", 26, \"college\",True)\n",
        "print(mytuple[-2])"
      ],
      "execution_count": 529,
      "outputs": [
        {
          "output_type": "stream",
          "name": "stdout",
          "text": [
            "college\n"
          ]
        }
      ]
    },
    {
      "cell_type": "code",
      "metadata": {
        "id": "06LxupxMHn2m",
        "colab": {
          "base_uri": "https://localhost:8080/"
        },
        "outputId": "f2272e13-0201-44f4-f1a7-367edfca9a42"
      },
      "source": [
        "mytuple = (\"Name\", 26, \"college\",True)\n",
        "print(mytuple[1:3])"
      ],
      "execution_count": 530,
      "outputs": [
        {
          "output_type": "stream",
          "name": "stdout",
          "text": [
            "(26, 'college')\n"
          ]
        }
      ]
    },
    {
      "cell_type": "code",
      "metadata": {
        "id": "1aJ7tV8AHn2m",
        "colab": {
          "base_uri": "https://localhost:8080/"
        },
        "outputId": "3f4bd8bf-28f2-4fc5-fbca-a14e22326a08"
      },
      "source": [
        "mytuple = (\"Name\", 26, \"college\",True)\n",
        "print(mytuple[-3:-2])"
      ],
      "execution_count": 531,
      "outputs": [
        {
          "output_type": "stream",
          "name": "stdout",
          "text": [
            "(26,)\n"
          ]
        }
      ]
    },
    {
      "cell_type": "code",
      "metadata": {
        "id": "jK_jeCpEHn2n",
        "colab": {
          "base_uri": "https://localhost:8080/"
        },
        "outputId": "8004634a-a292-4e6b-ba24-5ebfd84fc587"
      },
      "source": [
        "mytuple = (\"Name\", 26, \"college\",True)\n",
        "if \"Name\" in mytuple:\n",
        "    print(mytuple[1])"
      ],
      "execution_count": 532,
      "outputs": [
        {
          "output_type": "stream",
          "name": "stdout",
          "text": [
            "26\n"
          ]
        }
      ]
    },
    {
      "cell_type": "code",
      "metadata": {
        "id": "ztVR_ngyHn2n",
        "colab": {
          "base_uri": "https://localhost:8080/"
        },
        "outputId": "8a362df5-d25f-420e-eea9-920588187239"
      },
      "source": [
        "#update in tuple\n",
        "mytuple = (\"Name\", 26, \"college\",True)\n",
        "mylist = list(mytuple)\n",
        "mylist[1]=\"IITJ\"\n",
        "mytuple = tuple(mylist)\n",
        "print(mytuple)"
      ],
      "execution_count": 533,
      "outputs": [
        {
          "output_type": "stream",
          "name": "stdout",
          "text": [
            "('Name', 'IITJ', 'college', True)\n"
          ]
        }
      ]
    },
    {
      "cell_type": "code",
      "metadata": {
        "id": "OOPLQFjdHn2n",
        "colab": {
          "base_uri": "https://localhost:8080/"
        },
        "outputId": "d984cae4-f6d1-4539-dd87-0a0804f9544e"
      },
      "source": [
        "#add in tuple\n",
        "mytuple = (\"Name\", 26, \"college\",True)\n",
        "mylist = list(mytuple)\n",
        "mylist.append(\"Salary\")\n",
        "mytuple = tuple(mylist)\n",
        "print(mytuple)"
      ],
      "execution_count": 534,
      "outputs": [
        {
          "output_type": "stream",
          "name": "stdout",
          "text": [
            "('Name', 26, 'college', True, 'Salary')\n"
          ]
        }
      ]
    },
    {
      "cell_type": "code",
      "metadata": {
        "id": "wC9auxWKHn2n",
        "colab": {
          "base_uri": "https://localhost:8080/"
        },
        "outputId": "b31abb45-fa1d-4056-8c26-7d03ed1becbe"
      },
      "source": [
        "#add two tuple\n",
        "#update in tuple\n",
        "mytuple = (\"Name\", 26, \"college\",True)\n",
        "\n",
        "mytuple1 = (23,36)\n",
        "mytuple+=mytuple1\n",
        "print(mytuple)"
      ],
      "execution_count": 535,
      "outputs": [
        {
          "output_type": "stream",
          "name": "stdout",
          "text": [
            "('Name', 26, 'college', True, 23, 36)\n"
          ]
        }
      ]
    },
    {
      "cell_type": "code",
      "metadata": {
        "id": "zJA5kKGHHn2n",
        "colab": {
          "base_uri": "https://localhost:8080/"
        },
        "outputId": "4f2818c9-2da9-4c05-9d47-2cbed15689ae"
      },
      "source": [
        "#update in tuple\n",
        "mytuple = (\"Name\", 26, \"college\",True)\n",
        "mylist = list(mytuple)\n",
        "mylist.remove(26)\n",
        "mytuple = tuple(mylist)\n",
        "print(mytuple)"
      ],
      "execution_count": 536,
      "outputs": [
        {
          "output_type": "stream",
          "name": "stdout",
          "text": [
            "('Name', 'college', True)\n"
          ]
        }
      ]
    },
    {
      "cell_type": "markdown",
      "metadata": {
        "id": "U71r7GGPHn2p"
      },
      "source": [
        "# Unpack tuple"
      ]
    },
    {
      "cell_type": "code",
      "metadata": {
        "id": "qG55W0XGHn2p",
        "colab": {
          "base_uri": "https://localhost:8080/"
        },
        "outputId": "457b4067-d99b-4973-811e-eff1d8eb046c"
      },
      "source": [
        "mytuple = (\"Name\", 26, \"college\",True)\n",
        "print(mytuple)\n",
        "\n",
        "(w,x,y,z) = mytuple\n",
        "print(w , x ,y, z)\n",
        "print(w)"
      ],
      "execution_count": 537,
      "outputs": [
        {
          "output_type": "stream",
          "name": "stdout",
          "text": [
            "('Name', 26, 'college', True)\n",
            "Name 26 college True\n",
            "Name\n"
          ]
        }
      ]
    },
    {
      "cell_type": "code",
      "metadata": {
        "id": "QC0i3ONnHn2p",
        "colab": {
          "base_uri": "https://localhost:8080/"
        },
        "outputId": "2298786c-20a5-4b9c-e032-9e8ca2405ef8"
      },
      "source": [
        "#When you don't know number of item than use * to unpack\n",
        "mytuple = (\"Name\", 26, \"college\",True)\n",
        "print(mytuple)\n",
        "\n",
        "(w,*x) = mytuple\n",
        "print(w)\n",
        "print(x)"
      ],
      "execution_count": 538,
      "outputs": [
        {
          "output_type": "stream",
          "name": "stdout",
          "text": [
            "('Name', 26, 'college', True)\n",
            "Name\n",
            "[26, 'college', True]\n"
          ]
        }
      ]
    },
    {
      "cell_type": "code",
      "metadata": {
        "id": "Or0xUdchHn2q",
        "colab": {
          "base_uri": "https://localhost:8080/"
        },
        "outputId": "48852b36-f253-4c6c-fd61-092b9c1b1a86"
      },
      "source": [
        "mytuple = (\"Name\", 26, \"college\",True)\n",
        "for x in mytuple:\n",
        "    print(x)"
      ],
      "execution_count": 539,
      "outputs": [
        {
          "output_type": "stream",
          "name": "stdout",
          "text": [
            "Name\n",
            "26\n",
            "college\n",
            "True\n"
          ]
        }
      ]
    },
    {
      "cell_type": "code",
      "metadata": {
        "id": "0XaLK_XKHn2q",
        "colab": {
          "base_uri": "https://localhost:8080/"
        },
        "outputId": "078d1dd9-d41c-41b9-c96b-d4573600a594"
      },
      "source": [
        "mytuple = (\"Name\", 26, \"college\",True)\n",
        "for x in range(len(mytuple)):\n",
        "    print(mytuple[x])"
      ],
      "execution_count": 540,
      "outputs": [
        {
          "output_type": "stream",
          "name": "stdout",
          "text": [
            "Name\n",
            "26\n",
            "college\n",
            "True\n"
          ]
        }
      ]
    },
    {
      "cell_type": "code",
      "metadata": {
        "id": "9AQu1nSzHn2q",
        "colab": {
          "base_uri": "https://localhost:8080/"
        },
        "outputId": "e54e89c4-2b78-49b2-a1a6-a61a6a804893"
      },
      "source": [
        "mytuple = (\"Name\", 26, \"college\",True)\n",
        "x=0\n",
        "while x<len(mytuple):\n",
        "    print(mytuple[x])\n",
        "    x=x+1\n",
        "    "
      ],
      "execution_count": 541,
      "outputs": [
        {
          "output_type": "stream",
          "name": "stdout",
          "text": [
            "Name\n",
            "26\n",
            "college\n",
            "True\n"
          ]
        }
      ]
    },
    {
      "cell_type": "markdown",
      "metadata": {
        "id": "fbsvkcc5Hn2q"
      },
      "source": [
        "# Join two tuple"
      ]
    },
    {
      "cell_type": "code",
      "metadata": {
        "id": "vQRe_b8iHn2q",
        "colab": {
          "base_uri": "https://localhost:8080/"
        },
        "outputId": "6b58910d-b0ce-45fe-8b19-2da541cc0cf9"
      },
      "source": [
        "mytuple = (\"Name\", 26, \"college\",True)\n",
        "mytuple1 = (\"a\", \"college\",True)\n",
        "jointuple = mytuple + mytuple1\n",
        "print(jointuple)"
      ],
      "execution_count": 542,
      "outputs": [
        {
          "output_type": "stream",
          "name": "stdout",
          "text": [
            "('Name', 26, 'college', True, 'a', 'college', True)\n"
          ]
        }
      ]
    },
    {
      "cell_type": "code",
      "metadata": {
        "id": "qE1w16_nHn2r",
        "colab": {
          "base_uri": "https://localhost:8080/"
        },
        "outputId": "0197c480-a8ab-4cc0-e1fd-2b93e221061b"
      },
      "source": [
        "mytuple = (\"Name\", 26, \"college\",True)\n",
        "mul_tuple = mytuple*3\n",
        "print(mul_tuple)"
      ],
      "execution_count": 543,
      "outputs": [
        {
          "output_type": "stream",
          "name": "stdout",
          "text": [
            "('Name', 26, 'college', True, 'Name', 26, 'college', True, 'Name', 26, 'college', True)\n"
          ]
        }
      ]
    },
    {
      "cell_type": "code",
      "metadata": {
        "id": "ugTSC0E5Hn2r",
        "colab": {
          "base_uri": "https://localhost:8080/"
        },
        "outputId": "fdd65a19-d68c-4d96-e81d-930925b1e68b"
      },
      "source": [
        "#count(), # index()\n",
        "mytuple = (\"Name\", 26, \"college\",True, 26)\n",
        "x = mytuple.count(26)\n",
        "print(x)"
      ],
      "execution_count": 544,
      "outputs": [
        {
          "output_type": "stream",
          "name": "stdout",
          "text": [
            "2\n"
          ]
        }
      ]
    },
    {
      "cell_type": "code",
      "metadata": {
        "id": "D9Pl2YojHn2r",
        "colab": {
          "base_uri": "https://localhost:8080/"
        },
        "outputId": "5ab6743c-eb1f-4ee5-9077-437e0e91d7a2"
      },
      "source": [
        "mytuple = (\"Name\", 26, \"college\",True, 26)\n",
        "x = mytuple.index(26)\n",
        "print(x)"
      ],
      "execution_count": 545,
      "outputs": [
        {
          "output_type": "stream",
          "name": "stdout",
          "text": [
            "1\n"
          ]
        }
      ]
    },
    {
      "cell_type": "markdown",
      "metadata": {
        "id": "IKOgZjnGHn2r"
      },
      "source": [
        "# Python Set \n",
        "A set is a collection which are unordered, unchangeable, and do not allow duplicate values and is unindexed."
      ]
    },
    {
      "cell_type": "code",
      "metadata": {
        "id": "knV0cZK5Hn2r",
        "colab": {
          "base_uri": "https://localhost:8080/"
        },
        "outputId": "45724005-82a9-4a97-aecc-b94632d62f2b"
      },
      "source": [
        "myset = {\"Name\", 26, \"college\",True}\n",
        "print(myset)\n",
        "print(len(myset))"
      ],
      "execution_count": 546,
      "outputs": [
        {
          "output_type": "stream",
          "name": "stdout",
          "text": [
            "{True, 'Name', 26, 'college'}\n",
            "4\n"
          ]
        }
      ]
    },
    {
      "cell_type": "code",
      "metadata": {
        "id": "TBWg-58EHn2s",
        "colab": {
          "base_uri": "https://localhost:8080/"
        },
        "outputId": "58c39117-c009-43e0-f8a1-714c000f60fa"
      },
      "source": [
        "myset = {\"Name\", \"age\", \"college\",\"age\"} #string data type\n",
        "age = {20,30,40,50} #int data type\n",
        "abc = {True, True, False} #boolean data type\n",
        "myset1 = {\"Name\", 26, \"college\",True}\n",
        "\n",
        "\n",
        "print(type(myset))\n",
        "print(type(age))\n",
        "print(type(abc))\n",
        "print(type(myset1))\n",
        "\n",
        "print(len(mytuple))"
      ],
      "execution_count": 547,
      "outputs": [
        {
          "output_type": "stream",
          "name": "stdout",
          "text": [
            "<class 'set'>\n",
            "<class 'set'>\n",
            "<class 'set'>\n",
            "<class 'set'>\n",
            "5\n"
          ]
        }
      ]
    },
    {
      "cell_type": "code",
      "metadata": {
        "id": "Y0nxec3bHn2s",
        "colab": {
          "base_uri": "https://localhost:8080/"
        },
        "outputId": "502bc47b-a4a4-4dfc-9715-1ad126d13baa"
      },
      "source": [
        "myset = set((\"Name\", \"age\", \"college\",\"age\"))\n",
        "print(myset)"
      ],
      "execution_count": 548,
      "outputs": [
        {
          "output_type": "stream",
          "name": "stdout",
          "text": [
            "{'age', 'Name', 'college'}\n"
          ]
        }
      ]
    },
    {
      "cell_type": "code",
      "metadata": {
        "id": "hHxzSb5CHn2s",
        "colab": {
          "base_uri": "https://localhost:8080/"
        },
        "outputId": "80308966-5b6f-45d1-8322-15743090c494"
      },
      "source": [
        "myset = {\"Name\", \"age\", \"college\"}\n",
        "for x in myset:\n",
        "    print(x)\n"
      ],
      "execution_count": 549,
      "outputs": [
        {
          "output_type": "stream",
          "name": "stdout",
          "text": [
            "age\n",
            "Name\n",
            "college\n"
          ]
        }
      ]
    },
    {
      "cell_type": "code",
      "metadata": {
        "id": "SB51YjY3Hn2t",
        "colab": {
          "base_uri": "https://localhost:8080/"
        },
        "outputId": "63e11586-1146-40ad-c6be-06f3e8666e7e"
      },
      "source": [
        "myset = {\"Name\", \"age\", \"college\",\"age\"}\n",
        "print(\"age\" in myset)"
      ],
      "execution_count": 550,
      "outputs": [
        {
          "output_type": "stream",
          "name": "stdout",
          "text": [
            "True\n"
          ]
        }
      ]
    },
    {
      "cell_type": "code",
      "metadata": {
        "id": "uHEmYGeEHn2u",
        "colab": {
          "base_uri": "https://localhost:8080/"
        },
        "outputId": "2d6df297-ab43-4d12-9e7b-b40906807b7c"
      },
      "source": [
        "myset = {\"Name\", \"age\", \"college\"}\n",
        "myset.add(27)\n",
        "print(myset)"
      ],
      "execution_count": 551,
      "outputs": [
        {
          "output_type": "stream",
          "name": "stdout",
          "text": [
            "{'age', 'Name', 27, 'college'}\n"
          ]
        }
      ]
    },
    {
      "cell_type": "code",
      "metadata": {
        "id": "opSiTDciHn2u",
        "colab": {
          "base_uri": "https://localhost:8080/"
        },
        "outputId": "d1d06f92-9ee4-4cbe-9397-9cd428fff597"
      },
      "source": [
        "myset = {\"Name\", \"age\", \"college\"}\n",
        "set2 ={27,37}\n",
        "myset.update(set2)\n",
        "print(myset)"
      ],
      "execution_count": 552,
      "outputs": [
        {
          "output_type": "stream",
          "name": "stdout",
          "text": [
            "{37, 'age', 'Name', 27, 'college'}\n"
          ]
        }
      ]
    },
    {
      "cell_type": "code",
      "metadata": {
        "id": "I9V3Vi4kHn2u",
        "colab": {
          "base_uri": "https://localhost:8080/"
        },
        "outputId": "b230f3fa-52d4-4021-d074-4d238b4a369e"
      },
      "source": [
        "myset = {\"Name\", \"age\", \"college\"}\n",
        "set2 =[27,37]\n",
        "myset.update(set2)\n",
        "print(myset)"
      ],
      "execution_count": 553,
      "outputs": [
        {
          "output_type": "stream",
          "name": "stdout",
          "text": [
            "{37, 'Name', 'college', 'age', 27}\n"
          ]
        }
      ]
    },
    {
      "cell_type": "code",
      "metadata": {
        "id": "M81hIDkYHn2u",
        "colab": {
          "base_uri": "https://localhost:8080/"
        },
        "outputId": "cb5846dd-cbf6-41c1-8e81-364134576270"
      },
      "source": [
        "myset = {\"Name\", \"age\", \"college\"}\n",
        "\n",
        "myset.remove(\"age\")\n",
        "print(myset)"
      ],
      "execution_count": 554,
      "outputs": [
        {
          "output_type": "stream",
          "name": "stdout",
          "text": [
            "{'Name', 'college'}\n"
          ]
        }
      ]
    },
    {
      "cell_type": "code",
      "metadata": {
        "id": "p9vBFfTyHn2v",
        "colab": {
          "base_uri": "https://localhost:8080/"
        },
        "outputId": "f860aced-e876-4599-f94c-7b7f31b077dd"
      },
      "source": [
        "myset = {\"Name\", \"age\", \"college\"}\n",
        "\n",
        "myset.discard(\"age\")\n",
        "print(myset)"
      ],
      "execution_count": 555,
      "outputs": [
        {
          "output_type": "stream",
          "name": "stdout",
          "text": [
            "{'Name', 'college'}\n"
          ]
        }
      ]
    },
    {
      "cell_type": "code",
      "metadata": {
        "id": "oCJeib5hHn2v",
        "colab": {
          "base_uri": "https://localhost:8080/"
        },
        "outputId": "52fda1c1-54f2-46cb-ee8a-6d5d7510cde5"
      },
      "source": [
        "myset = {\"Name\", \"age\", \"college\"}\n",
        "\n",
        "x =myset.pop()\n",
        "print(x)"
      ],
      "execution_count": 556,
      "outputs": [
        {
          "output_type": "stream",
          "name": "stdout",
          "text": [
            "age\n"
          ]
        }
      ]
    },
    {
      "cell_type": "code",
      "metadata": {
        "id": "hrPwbkZ0Hn2v",
        "colab": {
          "base_uri": "https://localhost:8080/"
        },
        "outputId": "f984813e-127c-4368-a531-7f94af8bde5d"
      },
      "source": [
        "myset = {\"Name\", \"age\", \"college\"}\n",
        "\n",
        "myset.clear()\n",
        "print(myset)"
      ],
      "execution_count": 557,
      "outputs": [
        {
          "output_type": "stream",
          "name": "stdout",
          "text": [
            "set()\n"
          ]
        }
      ]
    },
    {
      "cell_type": "code",
      "metadata": {
        "id": "cwdxK8IVHn2v"
      },
      "source": [
        "myset1 = {\"Name\", \"age\", \"college\"}\n",
        "del myset1\n",
        "\n",
        "# print(myset1)"
      ],
      "execution_count": 558,
      "outputs": []
    },
    {
      "cell_type": "code",
      "metadata": {
        "id": "sLBjUMlaHn2w",
        "colab": {
          "base_uri": "https://localhost:8080/"
        },
        "outputId": "a6a6c8e4-f124-4c89-a20a-8648a98c9605"
      },
      "source": [
        "myset = {\"Name\", \"age\", \"college\"}\n",
        "for x in myset:\n",
        "    print(x)"
      ],
      "execution_count": 559,
      "outputs": [
        {
          "output_type": "stream",
          "name": "stdout",
          "text": [
            "age\n",
            "Name\n",
            "college\n"
          ]
        }
      ]
    },
    {
      "cell_type": "code",
      "metadata": {
        "id": "dtKwlp_dHn2w",
        "colab": {
          "base_uri": "https://localhost:8080/"
        },
        "outputId": "18747b65-0f34-4da1-ad1b-f6039b4f1aab"
      },
      "source": [
        "myset = {\"Name\", \"age\", \"college\"}\n",
        "myset1 = {\"Name1\", \"age\", \"college1\"}\n",
        "Set = myset.union(myset1)\n",
        "print(Set)"
      ],
      "execution_count": 560,
      "outputs": [
        {
          "output_type": "stream",
          "name": "stdout",
          "text": [
            "{'college1', 'age', 'Name', 'college', 'Name1'}\n"
          ]
        }
      ]
    },
    {
      "cell_type": "code",
      "metadata": {
        "id": "2_hdY3qlHn2w",
        "colab": {
          "base_uri": "https://localhost:8080/"
        },
        "outputId": "8ec97a99-f059-4026-9fef-58281f500c04"
      },
      "source": [
        "myset = {\"Name\", \"age\", \"college\"}\n",
        "myset1 = {\"Name1\", \"age\", \"college1\"}\n",
        "myset.update(myset1)\n",
        "print(myset)"
      ],
      "execution_count": 561,
      "outputs": [
        {
          "output_type": "stream",
          "name": "stdout",
          "text": [
            "{'college1', 'age', 'Name', 'college', 'Name1'}\n"
          ]
        }
      ]
    },
    {
      "cell_type": "code",
      "metadata": {
        "id": "C6GPwtf5Hn2w",
        "colab": {
          "base_uri": "https://localhost:8080/"
        },
        "outputId": "47174fec-3cd0-4ec4-b5a3-eef698da3e8f"
      },
      "source": [
        "myset = {\"Name\", \"age\", \"college\"}\n",
        "myset1 = {\"Name1\", \"age\", \"college\"}\n",
        "myset.intersection_update(myset1)\n",
        "print(myset)"
      ],
      "execution_count": 562,
      "outputs": [
        {
          "output_type": "stream",
          "name": "stdout",
          "text": [
            "{'age', 'college'}\n"
          ]
        }
      ]
    },
    {
      "cell_type": "code",
      "metadata": {
        "id": "8Rpzg-n1Hn2w",
        "colab": {
          "base_uri": "https://localhost:8080/"
        },
        "outputId": "be1ce698-639e-4502-8b4a-4546abb589e8"
      },
      "source": [
        "myset = {\"Name\", \"age\", \"college\"}\n",
        "myset1 = {\"Name1\", \"age\", \"college\"}\n",
        "x = myset.intersection(myset1)\n",
        "print(x)"
      ],
      "execution_count": 563,
      "outputs": [
        {
          "output_type": "stream",
          "name": "stdout",
          "text": [
            "{'age', 'college'}\n"
          ]
        }
      ]
    },
    {
      "cell_type": "code",
      "metadata": {
        "id": "iE-bkT46Hn2w",
        "colab": {
          "base_uri": "https://localhost:8080/"
        },
        "outputId": "742eaf1e-1cb1-4470-b2e4-d6ad77345635"
      },
      "source": [
        "myset = {\"Name\", \"age\", \"college\"}\n",
        "myset1 = {\"Name1\", \"age\", \"college\"}\n",
        "myset.symmetric_difference_update(myset1)\n",
        "print(myset)"
      ],
      "execution_count": 564,
      "outputs": [
        {
          "output_type": "stream",
          "name": "stdout",
          "text": [
            "{'Name', 'Name1'}\n"
          ]
        }
      ]
    },
    {
      "cell_type": "code",
      "metadata": {
        "id": "x3YtZqFHHn2x",
        "colab": {
          "base_uri": "https://localhost:8080/"
        },
        "outputId": "f167281d-7acb-47ef-bc42-00609add63d7"
      },
      "source": [
        "myset = {\"Name\", \"age\", \"college\"}\n",
        "myset1 = {\"Name1\", \"age\", \"college\"}\n",
        "x = myset.symmetric_difference(myset1)\n",
        "print(x)"
      ],
      "execution_count": 565,
      "outputs": [
        {
          "output_type": "stream",
          "name": "stdout",
          "text": [
            "{'Name', 'Name1'}\n"
          ]
        }
      ]
    },
    {
      "cell_type": "markdown",
      "metadata": {
        "id": "XRe59Y53Hn2x"
      },
      "source": [
        "# Python Dictionaries\n",
        "Dictionaries are used to store data values in key:value pairs.\n",
        "\n",
        "A dictionary is a collection which is ordered*, changeable and does not allow duplicates."
      ]
    },
    {
      "cell_type": "code",
      "metadata": {
        "id": "zpXaP3rxHn2x",
        "colab": {
          "base_uri": "https://localhost:8080/"
        },
        "outputId": "0ce411e3-e09a-4f40-89b0-6b3315f134a0"
      },
      "source": [
        "mydict ={\n",
        "    \"name\": \"ABC\",\n",
        "    \"age\": 27,\n",
        "    \"address\": \"Gwalior\"\n",
        "}\n",
        "print(mydict)"
      ],
      "execution_count": 566,
      "outputs": [
        {
          "output_type": "stream",
          "name": "stdout",
          "text": [
            "{'name': 'ABC', 'age': 27, 'address': 'Gwalior'}\n"
          ]
        }
      ]
    },
    {
      "cell_type": "code",
      "metadata": {
        "id": "u7M5-9HWHn2x",
        "colab": {
          "base_uri": "https://localhost:8080/"
        },
        "outputId": "8fd3ed22-0951-4a95-d108-0e6893732f18"
      },
      "source": [
        "mydict ={\n",
        "    \"name\": \"ABC\",\n",
        "    \"age\": 27,\n",
        "    \"address\": \"Gwalior\"\n",
        "#     \"age\"= 25\n",
        "}\n",
        "print(mydict[\"name\"])"
      ],
      "execution_count": 567,
      "outputs": [
        {
          "output_type": "stream",
          "name": "stdout",
          "text": [
            "ABC\n"
          ]
        }
      ]
    },
    {
      "cell_type": "code",
      "metadata": {
        "id": "hRPoy3SMHn2x",
        "colab": {
          "base_uri": "https://localhost:8080/"
        },
        "outputId": "061eb970-e489-449a-921d-70b5e5593d4f"
      },
      "source": [
        "mydict ={\n",
        "    \"name\": \"ABC\",\n",
        "    \"age\": 27,\n",
        "    \"address\": \"Gwalior\"\n",
        "#     \"age\"= 25\n",
        "}\n",
        "print(type(mydict))"
      ],
      "execution_count": 568,
      "outputs": [
        {
          "output_type": "stream",
          "name": "stdout",
          "text": [
            "<class 'dict'>\n"
          ]
        }
      ]
    },
    {
      "cell_type": "code",
      "metadata": {
        "id": "iB0MUj5BHn2y",
        "colab": {
          "base_uri": "https://localhost:8080/"
        },
        "outputId": "56e3bf7c-3bcb-42d8-d5dc-886761c90cbe"
      },
      "source": [
        "mydict ={\n",
        "    \"name\": \"ABC\",\n",
        "    \"age\": 27,\n",
        "    \"address\": \"Gwalior\"\n",
        "#     \"age\"= 25\n",
        "}\n",
        "x = mydict[\"name\"]\n",
        "print(x)"
      ],
      "execution_count": 569,
      "outputs": [
        {
          "output_type": "stream",
          "name": "stdout",
          "text": [
            "ABC\n"
          ]
        }
      ]
    },
    {
      "cell_type": "code",
      "metadata": {
        "id": "xO7ecfWrHn2y",
        "colab": {
          "base_uri": "https://localhost:8080/"
        },
        "outputId": "504c738c-d199-4897-bfaf-58ed92115856"
      },
      "source": [
        "mydict ={\n",
        "    \"name\": \"ABC\",\n",
        "    \"age\": 27,\n",
        "    \"address\": \"Gwalior\"\n",
        "#     \"age\"= 25\n",
        "}\n",
        "x = mydict.keys()\n",
        "y = mydict.values() \n",
        "print(x)\n",
        "print(y)"
      ],
      "execution_count": 570,
      "outputs": [
        {
          "output_type": "stream",
          "name": "stdout",
          "text": [
            "dict_keys(['name', 'age', 'address'])\n",
            "dict_values(['ABC', 27, 'Gwalior'])\n"
          ]
        }
      ]
    },
    {
      "cell_type": "code",
      "metadata": {
        "id": "8fDWhwppHn2y",
        "colab": {
          "base_uri": "https://localhost:8080/"
        },
        "outputId": "28a3e59c-634f-4b7c-fcd1-dd80518551c6"
      },
      "source": [
        "mydict ={\n",
        "    \"name\": \"ABC\",\n",
        "    \"age\": 26,\n",
        "    \"address\": \"Gwalior\"\n",
        "\n",
        "}\n",
        "\n",
        "mydict[\"salary\"] = \"70k\"\n",
        "\n",
        "print(mydict)"
      ],
      "execution_count": 571,
      "outputs": [
        {
          "output_type": "stream",
          "name": "stdout",
          "text": [
            "{'name': 'ABC', 'age': 26, 'address': 'Gwalior', 'salary': '70k'}\n"
          ]
        }
      ]
    },
    {
      "cell_type": "code",
      "metadata": {
        "id": "zFUXgYyUHn2y",
        "colab": {
          "base_uri": "https://localhost:8080/"
        },
        "outputId": "ceace657-44ea-419a-ac13-418777800426"
      },
      "source": [
        "mydict ={\n",
        "    \"name\": \"ABC\",\n",
        "    \"age\": 27,\n",
        "    \"address\": \"Gwalior\"\n",
        "}\n",
        "\n",
        "mydict[\"age\"] = 26\n",
        "\n",
        "print(mydict)"
      ],
      "execution_count": 572,
      "outputs": [
        {
          "output_type": "stream",
          "name": "stdout",
          "text": [
            "{'name': 'ABC', 'age': 26, 'address': 'Gwalior'}\n"
          ]
        }
      ]
    },
    {
      "cell_type": "code",
      "metadata": {
        "id": "sXiS8wsLHn2y",
        "colab": {
          "base_uri": "https://localhost:8080/"
        },
        "outputId": "7af7eda8-f7f2-4369-8649-3fc5cd4e913d"
      },
      "source": [
        "mydict ={\n",
        "    \"name\": \"ABC\",\n",
        "    \"age\": 27,\n",
        "    \"address\": \"Gwalior\"\n",
        "#     \"age\"= 25\n",
        "}\n",
        "\n",
        "mydict.update({\"age\": 25})\n",
        "\n",
        "print(mydict)"
      ],
      "execution_count": 573,
      "outputs": [
        {
          "output_type": "stream",
          "name": "stdout",
          "text": [
            "{'name': 'ABC', 'age': 25, 'address': 'Gwalior'}\n"
          ]
        }
      ]
    },
    {
      "cell_type": "code",
      "metadata": {
        "id": "t0hzlZ-UHn2z",
        "colab": {
          "base_uri": "https://localhost:8080/"
        },
        "outputId": "a2041921-8295-4e7b-f653-8baa2e02a6bb"
      },
      "source": [
        "mydict ={\n",
        "    \"name\": \"ABC\",\n",
        "    \"age\": 27,\n",
        "    \"address\": \"Gwalior\"\n",
        "}\n",
        "\n",
        "mydict.pop(\"age\")\n",
        "\n",
        "print(mydict)"
      ],
      "execution_count": 574,
      "outputs": [
        {
          "output_type": "stream",
          "name": "stdout",
          "text": [
            "{'name': 'ABC', 'address': 'Gwalior'}\n"
          ]
        }
      ]
    },
    {
      "cell_type": "code",
      "metadata": {
        "id": "Nn3MZP59Hn2z",
        "colab": {
          "base_uri": "https://localhost:8080/"
        },
        "outputId": "69260a86-a60e-4998-c9d0-dac278dc8a9b"
      },
      "source": [
        "mydict ={\n",
        "    \"name\": \"ABC\",\n",
        "    \"age\": 27,\n",
        "    \"address\": \"Gwalior\"\n",
        "}\n",
        "\n",
        "mydict.popitem()\n",
        "\n",
        "print(mydict)"
      ],
      "execution_count": 575,
      "outputs": [
        {
          "output_type": "stream",
          "name": "stdout",
          "text": [
            "{'name': 'ABC', 'age': 27}\n"
          ]
        }
      ]
    },
    {
      "cell_type": "code",
      "metadata": {
        "id": "Y8E0b5LXHn2z",
        "colab": {
          "base_uri": "https://localhost:8080/"
        },
        "outputId": "be1ba8a5-241a-49b9-8dca-8c8c51bb3a87"
      },
      "source": [
        "mydict ={\n",
        "    \"name\": \"ABC\",\n",
        "    \"age\": 27,\n",
        "    \"address\": \"Gwalior\"\n",
        "}\n",
        "\n",
        "del mydict[\"age\"]\n",
        "\n",
        "print(mydict)"
      ],
      "execution_count": 576,
      "outputs": [
        {
          "output_type": "stream",
          "name": "stdout",
          "text": [
            "{'name': 'ABC', 'address': 'Gwalior'}\n"
          ]
        }
      ]
    },
    {
      "cell_type": "code",
      "metadata": {
        "id": "ctcYhmogHn2z",
        "colab": {
          "base_uri": "https://localhost:8080/"
        },
        "outputId": "ece83be5-9b5e-48d3-c9b7-a9a60bd2949e"
      },
      "source": [
        "mydict ={\n",
        "    \"name\": \"ABC\",\n",
        "    \"age\": 27,\n",
        "    \"address\": \"Gwalior\"\n",
        "}\n",
        "\n",
        "mydict.clear()\n",
        "\n",
        "print(mydict)"
      ],
      "execution_count": 577,
      "outputs": [
        {
          "output_type": "stream",
          "name": "stdout",
          "text": [
            "{}\n"
          ]
        }
      ]
    },
    {
      "cell_type": "code",
      "metadata": {
        "id": "Yx1dygIWHn20",
        "colab": {
          "base_uri": "https://localhost:8080/"
        },
        "outputId": "3336ee42-45b0-4966-8591-2316ae37a0ae"
      },
      "source": [
        "mydict ={\n",
        "    \"name\": \"ABC\",\n",
        "    \"age\": 27,\n",
        "    \"address\": \"Gwalior\"\n",
        "}\n",
        "\n",
        "for x in mydict:\n",
        "    print(x)"
      ],
      "execution_count": 578,
      "outputs": [
        {
          "output_type": "stream",
          "name": "stdout",
          "text": [
            "name\n",
            "age\n",
            "address\n"
          ]
        }
      ]
    },
    {
      "cell_type": "code",
      "metadata": {
        "id": "CKTQIz7pHn20",
        "colab": {
          "base_uri": "https://localhost:8080/"
        },
        "outputId": "a467073c-9dba-4fa3-d30e-d64c4ccd28d6"
      },
      "source": [
        "mydict ={\n",
        "    \"name\": \"ABC\",\n",
        "    \"age\": 27,\n",
        "    \"address\": \"Gwalior\"\n",
        "}\n",
        "\n",
        "for x in mydict:\n",
        "    print(mydict[x])"
      ],
      "execution_count": 579,
      "outputs": [
        {
          "output_type": "stream",
          "name": "stdout",
          "text": [
            "ABC\n",
            "27\n",
            "Gwalior\n"
          ]
        }
      ]
    },
    {
      "cell_type": "code",
      "metadata": {
        "id": "vVLFG7dqHn20",
        "colab": {
          "base_uri": "https://localhost:8080/"
        },
        "outputId": "48af0c6f-acc5-4e37-83f0-10e5a50643b4"
      },
      "source": [
        "mydict ={\n",
        "    \"name\": \"ABC\",\n",
        "    \"age\": 27,\n",
        "    \"address\": \"Gwalior\"\n",
        "}\n",
        "for x in mydict.keys():\n",
        "    print(x)"
      ],
      "execution_count": 580,
      "outputs": [
        {
          "output_type": "stream",
          "name": "stdout",
          "text": [
            "name\n",
            "age\n",
            "address\n"
          ]
        }
      ]
    },
    {
      "cell_type": "code",
      "metadata": {
        "id": "Vc1nqxVSHn20",
        "colab": {
          "base_uri": "https://localhost:8080/"
        },
        "outputId": "73759210-c246-48d0-bff1-3f889c53fcfc"
      },
      "source": [
        "mydict ={\n",
        "    \"name\": \"ABC\",\n",
        "    \"age\": 27,\n",
        "    \"address\": \"Gwalior\"\n",
        "}\n",
        "for x,y in mydict.items():\n",
        "    print(x,y)"
      ],
      "execution_count": 581,
      "outputs": [
        {
          "output_type": "stream",
          "name": "stdout",
          "text": [
            "name ABC\n",
            "age 27\n",
            "address Gwalior\n"
          ]
        }
      ]
    },
    {
      "cell_type": "markdown",
      "metadata": {
        "id": "aMkpQxAwHn20"
      },
      "source": [
        "# Copy Dictionaries"
      ]
    },
    {
      "cell_type": "code",
      "metadata": {
        "id": "MFasYPbhHn21",
        "colab": {
          "base_uri": "https://localhost:8080/"
        },
        "outputId": "0d3901eb-94eb-40e3-90fb-e5dd53b0509e"
      },
      "source": [
        "mydict ={\n",
        "    \"name\": \"ABC\",\n",
        "    \"age\": 27,\n",
        "    \"address\": \"Gwalior\"\n",
        "}\n",
        "\n",
        "mydict1 = mydict.copy()\n",
        "print(mydict1)"
      ],
      "execution_count": 582,
      "outputs": [
        {
          "output_type": "stream",
          "name": "stdout",
          "text": [
            "{'name': 'ABC', 'age': 27, 'address': 'Gwalior'}\n"
          ]
        }
      ]
    },
    {
      "cell_type": "code",
      "metadata": {
        "id": "UpMKHRATHn21",
        "colab": {
          "base_uri": "https://localhost:8080/"
        },
        "outputId": "87c9755f-09da-441f-e302-69fafd4291e8"
      },
      "source": [
        "mydict ={\n",
        "    \"name\": \"ABC\",\n",
        "    \"age\": 27,\n",
        "    \"address\": \"Gwalior\"\n",
        "}\n",
        "\n",
        "mydict1 = dict(mydict)\n",
        "print(mydict1)"
      ],
      "execution_count": 583,
      "outputs": [
        {
          "output_type": "stream",
          "name": "stdout",
          "text": [
            "{'name': 'ABC', 'age': 27, 'address': 'Gwalior'}\n"
          ]
        }
      ]
    },
    {
      "cell_type": "markdown",
      "metadata": {
        "id": "IUEjB8U-Hn21"
      },
      "source": [
        "# Nested Dictionary"
      ]
    },
    {
      "cell_type": "code",
      "metadata": {
        "id": "NxYkIft-Hn21",
        "colab": {
          "base_uri": "https://localhost:8080/"
        },
        "outputId": "0009fe7f-c64b-4409-a10a-eea7300e2cdc"
      },
      "source": [
        "mydict ={\n",
        "    \"item1\":{\n",
        "    \"name\": \"ABC\",\n",
        "    \"age\": 27,\n",
        "    \"address\": \"Gwalior\"\n",
        "},\n",
        " \"item2\":{\n",
        "    \"name\": \"ABC\",\n",
        "    \"age\": 27,\n",
        "    \"address\": \"Gwalior\"\n",
        "}   \n",
        "}\n",
        "print(mydict)"
      ],
      "execution_count": 584,
      "outputs": [
        {
          "output_type": "stream",
          "name": "stdout",
          "text": [
            "{'item1': {'name': 'ABC', 'age': 27, 'address': 'Gwalior'}, 'item2': {'name': 'ABC', 'age': 27, 'address': 'Gwalior'}}\n"
          ]
        }
      ]
    },
    {
      "cell_type": "code",
      "metadata": {
        "id": "22TY6c-NHn21",
        "colab": {
          "base_uri": "https://localhost:8080/"
        },
        "outputId": "e424e392-f5c1-4f81-e1b5-ecb6ddc6f875"
      },
      "source": [
        "#If you want to add two dict into one\n",
        "item1={\n",
        "    \"name\": \"ABC\",\n",
        "    \"age\": 27,\n",
        "    \"address\": \"Gwalior\"\n",
        "}\n",
        "\n",
        "item2={\n",
        "    \"name\": \"ABC\",\n",
        "    \"age\": 27,\n",
        "    \"address\": \"Gwalior\"\n",
        "}\n",
        "\n",
        "mydict ={\n",
        "    \"item1\": item1,\n",
        "    \"item2\": item2\n",
        "}\n",
        "print(mydict)"
      ],
      "execution_count": 585,
      "outputs": [
        {
          "output_type": "stream",
          "name": "stdout",
          "text": [
            "{'item1': {'name': 'ABC', 'age': 27, 'address': 'Gwalior'}, 'item2': {'name': 'ABC', 'age': 27, 'address': 'Gwalior'}}\n"
          ]
        }
      ]
    },
    {
      "cell_type": "markdown",
      "metadata": {
        "id": "zYSA_AHTHn22"
      },
      "source": [
        "# Python Conditions and if statement"
      ]
    },
    {
      "cell_type": "code",
      "metadata": {
        "id": "zx-Hp6_GHn22",
        "colab": {
          "base_uri": "https://localhost:8080/"
        },
        "outputId": "8fd8c7e5-11ef-4117-9d64-2e06355390ab"
      },
      "source": [
        "x = 100\n",
        "y = 200\n",
        "if x>y:\n",
        "    print(\"x is greater than y\")\n",
        "elif y>x:\n",
        "    print(\"y is greater than x\")\n",
        "else:\n",
        "    print(\"y is not greater than x\")"
      ],
      "execution_count": 586,
      "outputs": [
        {
          "output_type": "stream",
          "name": "stdout",
          "text": [
            "y is greater than x\n"
          ]
        }
      ]
    },
    {
      "cell_type": "code",
      "metadata": {
        "id": "4FxQK-tpHn22",
        "colab": {
          "base_uri": "https://localhost:8080/"
        },
        "outputId": "4817e82b-5aee-47f9-d41d-5f9bbac406b4"
      },
      "source": [
        "x =300\n",
        "y =200\n",
        "if x>y: print(\"x is greater than y\")"
      ],
      "execution_count": 587,
      "outputs": [
        {
          "output_type": "stream",
          "name": "stdout",
          "text": [
            "x is greater than y\n"
          ]
        }
      ]
    },
    {
      "cell_type": "code",
      "metadata": {
        "id": "ntbRMSXXHn22",
        "colab": {
          "base_uri": "https://localhost:8080/"
        },
        "outputId": "8be16036-bee7-4aa8-fea8-a8a3b4ee8e72"
      },
      "source": [
        "x =300\n",
        "y =200\n",
        "z =100\n",
        "if x>y and z<y: print(\"x is greater than y\")"
      ],
      "execution_count": 588,
      "outputs": [
        {
          "output_type": "stream",
          "name": "stdout",
          "text": [
            "x is greater than y\n"
          ]
        }
      ]
    },
    {
      "cell_type": "code",
      "metadata": {
        "id": "AAblFawzHn23",
        "colab": {
          "base_uri": "https://localhost:8080/"
        },
        "outputId": "d1f40b9c-76cd-4088-b1c1-7ec9b24fc9f0"
      },
      "source": [
        "x =300\n",
        "y =200\n",
        "z =100\n",
        "if x<y or x>y: \n",
        "    print(\"x is greater than y\")"
      ],
      "execution_count": 589,
      "outputs": [
        {
          "output_type": "stream",
          "name": "stdout",
          "text": [
            "x is greater than y\n"
          ]
        }
      ]
    },
    {
      "cell_type": "code",
      "metadata": {
        "id": "SJC2Us-LHn23",
        "colab": {
          "base_uri": "https://localhost:8080/"
        },
        "outputId": "05204653-2a4c-4fed-b14a-55c5b4efa9b1"
      },
      "source": [
        "var1 = 300\n",
        "if var1 > 100:\n",
        "    print(\"cool..\")\n",
        "    if var1> 400:\n",
        "        print(\"yes you have nested this statement\")\n",
        "    else:\n",
        "        print(\"nested but condition is false\")"
      ],
      "execution_count": 590,
      "outputs": [
        {
          "output_type": "stream",
          "name": "stdout",
          "text": [
            "cool..\n",
            "nested but condition is false\n"
          ]
        }
      ]
    },
    {
      "cell_type": "code",
      "metadata": {
        "id": "rIZGEmuYHn23",
        "colab": {
          "base_uri": "https://localhost:8080/"
        },
        "outputId": "a49e62c6-32c5-460d-cb5e-a5060ead771a"
      },
      "source": [
        "x =300\n",
        "y =200\n",
        "z =100\n",
        "if z>y: \n",
        "    pass\n",
        "else:\n",
        "    print(\"done\")"
      ],
      "execution_count": 591,
      "outputs": [
        {
          "output_type": "stream",
          "name": "stdout",
          "text": [
            "done\n"
          ]
        }
      ]
    },
    {
      "cell_type": "markdown",
      "metadata": {
        "id": "5yV0lcyjHn23"
      },
      "source": [
        "# While Loop"
      ]
    },
    {
      "cell_type": "code",
      "metadata": {
        "id": "tVwegVr3Hn23",
        "colab": {
          "base_uri": "https://localhost:8080/"
        },
        "outputId": "bed91f66-1b94-4388-d96b-c295356846bf"
      },
      "source": [
        "x = 1\n",
        "while x <10:\n",
        "    print(x)\n",
        "    x=x+1\n",
        "    "
      ],
      "execution_count": 592,
      "outputs": [
        {
          "output_type": "stream",
          "name": "stdout",
          "text": [
            "1\n",
            "2\n",
            "3\n",
            "4\n",
            "5\n",
            "6\n",
            "7\n",
            "8\n",
            "9\n"
          ]
        }
      ]
    },
    {
      "cell_type": "code",
      "metadata": {
        "id": "wcTPrCGwHn24",
        "colab": {
          "base_uri": "https://localhost:8080/"
        },
        "outputId": "19bc2a45-0a94-4444-fb45-6dd380d9229f"
      },
      "source": [
        "x = 1\n",
        "while x <10:\n",
        "    print(x)\n",
        "    if x ==3:\n",
        "        break\n",
        "    x +=1"
      ],
      "execution_count": 593,
      "outputs": [
        {
          "output_type": "stream",
          "name": "stdout",
          "text": [
            "1\n",
            "2\n",
            "3\n"
          ]
        }
      ]
    },
    {
      "cell_type": "code",
      "metadata": {
        "id": "OsknN4hyHn27",
        "colab": {
          "base_uri": "https://localhost:8080/"
        },
        "outputId": "ca01d4f3-1555-4e34-97df-82cecce2ebc5"
      },
      "source": [
        "x = 1\n",
        "while x <10:\n",
        "    x +=1\n",
        "    \n",
        "    if x ==3:\n",
        "        continue\n",
        "    print(x)\n",
        "    "
      ],
      "execution_count": 594,
      "outputs": [
        {
          "output_type": "stream",
          "name": "stdout",
          "text": [
            "2\n",
            "4\n",
            "5\n",
            "6\n",
            "7\n",
            "8\n",
            "9\n",
            "10\n"
          ]
        }
      ]
    },
    {
      "cell_type": "code",
      "metadata": {
        "id": "BbyY-RtNHn27",
        "colab": {
          "base_uri": "https://localhost:8080/"
        },
        "outputId": "533cba8b-d591-41b1-c097-99b2a8e48091"
      },
      "source": [
        "x = 1\n",
        "while x <10:\n",
        "    print(x)\n",
        "    x +=1\n",
        "else:\n",
        "    print(\"you are wrong\")\n",
        "    "
      ],
      "execution_count": 595,
      "outputs": [
        {
          "output_type": "stream",
          "name": "stdout",
          "text": [
            "1\n",
            "2\n",
            "3\n",
            "4\n",
            "5\n",
            "6\n",
            "7\n",
            "8\n",
            "9\n",
            "you are wrong\n"
          ]
        }
      ]
    },
    {
      "cell_type": "markdown",
      "metadata": {
        "id": "45DyCK-VHn28"
      },
      "source": [
        "# Python For Loops"
      ]
    },
    {
      "cell_type": "code",
      "metadata": {
        "id": "Z9AqMYLkHn28",
        "colab": {
          "base_uri": "https://localhost:8080/"
        },
        "outputId": "d38b1223-ef5c-4d4e-ea30-ba96896a0b5f"
      },
      "source": [
        "color =[\"red\",\"green\",\"blue\",\"black\"]\n",
        "for x in color:\n",
        "    print(x)"
      ],
      "execution_count": 596,
      "outputs": [
        {
          "output_type": "stream",
          "name": "stdout",
          "text": [
            "red\n",
            "green\n",
            "blue\n",
            "black\n"
          ]
        }
      ]
    },
    {
      "cell_type": "code",
      "metadata": {
        "id": "vMV38y2UHn28",
        "colab": {
          "base_uri": "https://localhost:8080/"
        },
        "outputId": "731db38f-ca47-4e63-922b-174945815d5f"
      },
      "source": [
        "color =\"red is nice color\"\n",
        "for x in color:\n",
        "    print(x)"
      ],
      "execution_count": 597,
      "outputs": [
        {
          "output_type": "stream",
          "name": "stdout",
          "text": [
            "r\n",
            "e\n",
            "d\n",
            " \n",
            "i\n",
            "s\n",
            " \n",
            "n\n",
            "i\n",
            "c\n",
            "e\n",
            " \n",
            "c\n",
            "o\n",
            "l\n",
            "o\n",
            "r\n"
          ]
        }
      ]
    },
    {
      "cell_type": "code",
      "metadata": {
        "id": "SSyAJ8A_Hn28",
        "colab": {
          "base_uri": "https://localhost:8080/"
        },
        "outputId": "61052ba2-f5c5-4cf1-e29a-a9e3760bda57"
      },
      "source": [
        "color =[\"red\",\"green\",\"blue\",\"black\"]\n",
        "for x in color:\n",
        "    print(x)\n",
        "    if x ==\"green\":\n",
        "        break\n"
      ],
      "execution_count": 598,
      "outputs": [
        {
          "output_type": "stream",
          "name": "stdout",
          "text": [
            "red\n",
            "green\n"
          ]
        }
      ]
    },
    {
      "cell_type": "code",
      "metadata": {
        "id": "FifbcpHTHn29",
        "colab": {
          "base_uri": "https://localhost:8080/"
        },
        "outputId": "552af3bc-965b-4ba0-ea4d-2f8813480025"
      },
      "source": [
        "color =[\"red\",\"green\",\"blue\",\"black\"]\n",
        "for x in color:\n",
        "    \n",
        "    if x ==\"green\":\n",
        "        continue\n",
        "    print(x)"
      ],
      "execution_count": 599,
      "outputs": [
        {
          "output_type": "stream",
          "name": "stdout",
          "text": [
            "red\n",
            "blue\n",
            "black\n"
          ]
        }
      ]
    },
    {
      "cell_type": "code",
      "metadata": {
        "id": "RruFKJlaHn29",
        "colab": {
          "base_uri": "https://localhost:8080/"
        },
        "outputId": "8d7408b5-8511-4094-d759-768809dc6eb2"
      },
      "source": [
        "for x in range(5):\n",
        "    print(x)\n"
      ],
      "execution_count": 600,
      "outputs": [
        {
          "output_type": "stream",
          "name": "stdout",
          "text": [
            "0\n",
            "1\n",
            "2\n",
            "3\n",
            "4\n"
          ]
        }
      ]
    },
    {
      "cell_type": "code",
      "metadata": {
        "id": "THbbhaOpHn29",
        "colab": {
          "base_uri": "https://localhost:8080/"
        },
        "outputId": "c72f615b-fe90-477e-ddec-a8a3f9c3d035"
      },
      "source": [
        "\n",
        "for x in range(4,7):\n",
        "    print(x)"
      ],
      "execution_count": 601,
      "outputs": [
        {
          "output_type": "stream",
          "name": "stdout",
          "text": [
            "4\n",
            "5\n",
            "6\n"
          ]
        }
      ]
    },
    {
      "cell_type": "code",
      "metadata": {
        "id": "znWpw-PwHn29",
        "colab": {
          "base_uri": "https://localhost:8080/"
        },
        "outputId": "71f5b6d0-43cd-434d-a096-1f82018d4963"
      },
      "source": [
        "for x in range(3,30,4):\n",
        "    print(x)"
      ],
      "execution_count": 602,
      "outputs": [
        {
          "output_type": "stream",
          "name": "stdout",
          "text": [
            "3\n",
            "7\n",
            "11\n",
            "15\n",
            "19\n",
            "23\n",
            "27\n"
          ]
        }
      ]
    },
    {
      "cell_type": "code",
      "metadata": {
        "id": "YqYz-gI6Hn2-",
        "colab": {
          "base_uri": "https://localhost:8080/"
        },
        "outputId": "a8e973aa-2dac-42a5-ed8c-2574dbb1e8d4"
      },
      "source": [
        "list1 = [\"red\",\"green\"]\n",
        "list2 = [\"apple, banana\"]\n",
        "\n",
        "for x in list1:\n",
        "    for y in list2:\n",
        "        print(x,y)"
      ],
      "execution_count": 603,
      "outputs": [
        {
          "output_type": "stream",
          "name": "stdout",
          "text": [
            "red apple, banana\n",
            "green apple, banana\n"
          ]
        }
      ]
    },
    {
      "cell_type": "code",
      "metadata": {
        "id": "xJrq14tMHn2-"
      },
      "source": [
        "for x in [0,1,2]:\n",
        "    pass"
      ],
      "execution_count": 604,
      "outputs": []
    },
    {
      "cell_type": "markdown",
      "metadata": {
        "id": "1x8vST8GHn2_"
      },
      "source": [
        "# Python Function"
      ]
    },
    {
      "cell_type": "code",
      "metadata": {
        "id": "kaEQfYtcHn2_",
        "colab": {
          "base_uri": "https://localhost:8080/"
        },
        "outputId": "f44d40fc-5d53-4fa5-804d-de07e0cfb046"
      },
      "source": [
        "def func():\n",
        "    print(\"welcome\")\n",
        "func()"
      ],
      "execution_count": 605,
      "outputs": [
        {
          "output_type": "stream",
          "name": "stdout",
          "text": [
            "welcome\n"
          ]
        }
      ]
    },
    {
      "cell_type": "code",
      "metadata": {
        "id": "bK7DBd_nHn2_",
        "colab": {
          "base_uri": "https://localhost:8080/"
        },
        "outputId": "af59745e-92c1-4e3a-c5e8-f16719978885"
      },
      "source": [
        "#with one argument\n",
        "def func(name):\n",
        "    print(\"Welcome \" +name )\n",
        "func(\"Students\")\n",
        "func(\"Teacher\")"
      ],
      "execution_count": 606,
      "outputs": [
        {
          "output_type": "stream",
          "name": "stdout",
          "text": [
            "Welcome Students\n",
            "Welcome Teacher\n"
          ]
        }
      ]
    },
    {
      "cell_type": "code",
      "metadata": {
        "id": "s9F1YfnOHn2_",
        "colab": {
          "base_uri": "https://localhost:8080/"
        },
        "outputId": "ff040bb9-7c2e-465d-b9df-92658e8a4d41"
      },
      "source": [
        "# def func(name):\n",
        "#     print(\"Welcome \" +name )\n",
        "# func(\"Students\",\"Teacher\")\n",
        "\n",
        "#multiple arguments\n",
        "def func(name1, name2):\n",
        "    print(\"Welcome \" +name1+ \"and \"+name2 )\n",
        "func(\"Students\",\"Teacher\")\n"
      ],
      "execution_count": 607,
      "outputs": [
        {
          "output_type": "stream",
          "name": "stdout",
          "text": [
            "Welcome Studentsand Teacher\n"
          ]
        }
      ]
    },
    {
      "cell_type": "code",
      "metadata": {
        "id": "5TQdt9bGHn2_",
        "colab": {
          "base_uri": "https://localhost:8080/"
        },
        "outputId": "67f62051-2692-4547-88fc-085d0131ed0b"
      },
      "source": [
        "#When don't know number of argumnets\n",
        "def func(*name):\n",
        "    print(\"Welcome \"+name[1])\n",
        "func(\"Students\",\"Teacher\")"
      ],
      "execution_count": 608,
      "outputs": [
        {
          "output_type": "stream",
          "name": "stdout",
          "text": [
            "Welcome Teacher\n"
          ]
        }
      ]
    },
    {
      "cell_type": "code",
      "metadata": {
        "id": "NY09MvNwHn3A",
        "colab": {
          "base_uri": "https://localhost:8080/"
        },
        "outputId": "4fa54447-e040-44bb-cdaf-c68f1988f611"
      },
      "source": [
        "#send arguments with the key = value syntax.\n",
        "def func(name1,name2,name3):\n",
        "    print(\"Welcome \"+name3)\n",
        "func(name1=\"ABC\",name3= \"Monika\",name2=\"Mani\")"
      ],
      "execution_count": 609,
      "outputs": [
        {
          "output_type": "stream",
          "name": "stdout",
          "text": [
            "Welcome Monika\n"
          ]
        }
      ]
    },
    {
      "cell_type": "code",
      "metadata": {
        "id": "3gqFI5lJHn3A",
        "colab": {
          "base_uri": "https://localhost:8080/"
        },
        "outputId": "3798406d-204f-464d-dfa1-722e14e8d0e9"
      },
      "source": [
        "#If the number of keyword arguments is unknown, add a double ** before the parameter name\n",
        "def func(**name):\n",
        "    print(\"Welcome \"+name[\"name2\"])\n",
        "func(name1=\"ABC\",name3= \"Monika\",name2=\"Mani\")\n",
        "    "
      ],
      "execution_count": 610,
      "outputs": [
        {
          "output_type": "stream",
          "name": "stdout",
          "text": [
            "Welcome Mani\n"
          ]
        }
      ]
    },
    {
      "cell_type": "code",
      "metadata": {
        "id": "Oa6PmxvGHn3A",
        "colab": {
          "base_uri": "https://localhost:8080/"
        },
        "outputId": "da85473f-a89a-4773-e8e0-02a471cce2ee"
      },
      "source": [
        "#default parameter\n",
        "def func(name=\"ABC\"):\n",
        "    print(\"Welcome \" +name)\n",
        "func()\n",
        "func(\"Monika\")"
      ],
      "execution_count": 611,
      "outputs": [
        {
          "output_type": "stream",
          "name": "stdout",
          "text": [
            "Welcome ABC\n",
            "Welcome Monika\n"
          ]
        }
      ]
    },
    {
      "cell_type": "code",
      "metadata": {
        "id": "oQra6kL6Hn3A",
        "colab": {
          "base_uri": "https://localhost:8080/"
        },
        "outputId": "3bcc328c-db03-4b8f-c9b1-f479600e47cc"
      },
      "source": [
        "#Passing a list to an argument\n",
        "def func(name):\n",
        "    for x in name:\n",
        "        print(x)\n",
        "names = [\"Monika\",\"Manisha\",\"Janvi\"]\n",
        "func(names)"
      ],
      "execution_count": 612,
      "outputs": [
        {
          "output_type": "stream",
          "name": "stdout",
          "text": [
            "Monika\n",
            "Manisha\n",
            "Janvi\n"
          ]
        }
      ]
    },
    {
      "cell_type": "code",
      "metadata": {
        "id": "v2eTtHbfHn3B",
        "colab": {
          "base_uri": "https://localhost:8080/"
        },
        "outputId": "58d2cb00-9683-4356-88b5-4d88f09e1a65"
      },
      "source": [
        "#return keyword return value of function\n",
        "def func(a):\n",
        "    return 6*a\n",
        "print(func(7))"
      ],
      "execution_count": 613,
      "outputs": [
        {
          "output_type": "stream",
          "name": "stdout",
          "text": [
            "42\n"
          ]
        }
      ]
    },
    {
      "cell_type": "code",
      "metadata": {
        "id": "PQDangM-Hn3B",
        "colab": {
          "base_uri": "https://localhost:8080/"
        },
        "outputId": "ebd99ef5-a7c8-4aab-dda4-53fe07d22c9c"
      },
      "source": [
        "#Recursion\n",
        "def rec(a):\n",
        "    if(a >0):\n",
        "        result = a + rec(a-1)\n",
        "        print(result)\n",
        "    else:\n",
        "        result = 0\n",
        "    return result\n",
        "\n",
        "print(\"result of recursion\")\n",
        "rec(6)"
      ],
      "execution_count": 614,
      "outputs": [
        {
          "output_type": "stream",
          "name": "stdout",
          "text": [
            "result of recursion\n",
            "1\n",
            "3\n",
            "6\n",
            "10\n",
            "15\n",
            "21\n"
          ]
        },
        {
          "output_type": "execute_result",
          "data": {
            "text/plain": [
              "21"
            ]
          },
          "metadata": {},
          "execution_count": 614
        }
      ]
    },
    {
      "cell_type": "markdown",
      "metadata": {
        "id": "C79hoyDpHn3B"
      },
      "source": [
        "# Python Lambda"
      ]
    },
    {
      "cell_type": "code",
      "metadata": {
        "id": "DlRBTJhoHn3B"
      },
      "source": [
        "#lambda argument : expression"
      ],
      "execution_count": 615,
      "outputs": []
    },
    {
      "cell_type": "code",
      "metadata": {
        "id": "nsNZmiPnHn3B",
        "colab": {
          "base_uri": "https://localhost:8080/"
        },
        "outputId": "0080e551-fcd4-4248-b67f-15d28c4895ad"
      },
      "source": [
        "x = lambda b : b+20\n",
        "print(x(5))"
      ],
      "execution_count": 616,
      "outputs": [
        {
          "output_type": "stream",
          "name": "stdout",
          "text": [
            "25\n"
          ]
        }
      ]
    },
    {
      "cell_type": "code",
      "metadata": {
        "id": "InTdP0yFHn3C",
        "colab": {
          "base_uri": "https://localhost:8080/"
        },
        "outputId": "7af8db0e-aeb1-4921-d30c-69efe4b66d2a"
      },
      "source": [
        "x = lambda b,c : b+c\n",
        "print(x(5,6))"
      ],
      "execution_count": 617,
      "outputs": [
        {
          "output_type": "stream",
          "name": "stdout",
          "text": [
            "11\n"
          ]
        }
      ]
    },
    {
      "cell_type": "code",
      "metadata": {
        "id": "S-kpyK43Hn3C",
        "colab": {
          "base_uri": "https://localhost:8080/"
        },
        "outputId": "6c117866-99a2-47a3-c497-67488857efa6"
      },
      "source": [
        "x = lambda b,c,d : b+c*d\n",
        "print(x(5,6,5))"
      ],
      "execution_count": 618,
      "outputs": [
        {
          "output_type": "stream",
          "name": "stdout",
          "text": [
            "35\n"
          ]
        }
      ]
    },
    {
      "cell_type": "code",
      "metadata": {
        "id": "v5yaVMqJHn3C",
        "colab": {
          "base_uri": "https://localhost:8080/"
        },
        "outputId": "9ef5d8ac-d35f-4a78-942e-63a4299b1a0f"
      },
      "source": [
        "def func(n):\n",
        "    return lambda var :var*n\n",
        "triple = func(3)\n",
        "print(triple(20))"
      ],
      "execution_count": 619,
      "outputs": [
        {
          "output_type": "stream",
          "name": "stdout",
          "text": [
            "60\n"
          ]
        }
      ]
    },
    {
      "cell_type": "markdown",
      "metadata": {
        "id": "EPU7pFTTHn3C"
      },
      "source": [
        "# Python Arrays"
      ]
    },
    {
      "cell_type": "code",
      "metadata": {
        "id": "7rE3PEGgHn3C"
      },
      "source": [
        "color = [\"red\",\"black\",\"green\"]"
      ],
      "execution_count": 620,
      "outputs": []
    },
    {
      "cell_type": "code",
      "metadata": {
        "id": "TrV-wt3cHn3D",
        "colab": {
          "base_uri": "https://localhost:8080/"
        },
        "outputId": "4714a04a-c4d2-4766-b37e-e067337af359"
      },
      "source": [
        "x = color[1]\n",
        "print(x)"
      ],
      "execution_count": 621,
      "outputs": [
        {
          "output_type": "stream",
          "name": "stdout",
          "text": [
            "black\n"
          ]
        }
      ]
    },
    {
      "cell_type": "code",
      "metadata": {
        "id": "E--Pm9rXHn3D",
        "colab": {
          "base_uri": "https://localhost:8080/"
        },
        "outputId": "2dcf5412-88dc-4661-bdf7-86e463a4b0c3"
      },
      "source": [
        "color = [\"red\",\"black\",\"green\"]\n",
        "color[1] =\"yellow\"\n",
        "print(color)\n",
        "print(len(color))"
      ],
      "execution_count": 622,
      "outputs": [
        {
          "output_type": "stream",
          "name": "stdout",
          "text": [
            "['red', 'yellow', 'green']\n",
            "3\n"
          ]
        }
      ]
    },
    {
      "cell_type": "code",
      "metadata": {
        "id": "Qd5GOBT-Hn3D",
        "colab": {
          "base_uri": "https://localhost:8080/"
        },
        "outputId": "218f672a-91b3-442e-bc2a-53e5d7e6f1f4"
      },
      "source": [
        "#looping array elements\n",
        "for x in color:\n",
        "    print(x)"
      ],
      "execution_count": 623,
      "outputs": [
        {
          "output_type": "stream",
          "name": "stdout",
          "text": [
            "red\n",
            "yellow\n",
            "green\n"
          ]
        }
      ]
    },
    {
      "cell_type": "code",
      "metadata": {
        "id": "F__lOXMDHn3D",
        "colab": {
          "base_uri": "https://localhost:8080/"
        },
        "outputId": "a069a7e3-98bc-4a2f-92fd-a64ab38089c8"
      },
      "source": [
        "color.append(\"White\")\n",
        "print(color)"
      ],
      "execution_count": 624,
      "outputs": [
        {
          "output_type": "stream",
          "name": "stdout",
          "text": [
            "['red', 'yellow', 'green', 'White']\n"
          ]
        }
      ]
    },
    {
      "cell_type": "code",
      "metadata": {
        "id": "rix6GJeFHn3D",
        "colab": {
          "base_uri": "https://localhost:8080/"
        },
        "outputId": "af2945e4-4b1f-4930-cc98-6e111f9f6294"
      },
      "source": [
        "color.remove(\"red\")\n",
        "print(color)"
      ],
      "execution_count": 625,
      "outputs": [
        {
          "output_type": "stream",
          "name": "stdout",
          "text": [
            "['yellow', 'green', 'White']\n"
          ]
        }
      ]
    },
    {
      "cell_type": "code",
      "metadata": {
        "id": "OrFFlTqiHn3E",
        "colab": {
          "base_uri": "https://localhost:8080/"
        },
        "outputId": "f25335ae-2f30-4df9-81be-0a6a57869475"
      },
      "source": [
        "color.pop(1)\n",
        "print(color)"
      ],
      "execution_count": 626,
      "outputs": [
        {
          "output_type": "stream",
          "name": "stdout",
          "text": [
            "['yellow', 'White']\n"
          ]
        }
      ]
    },
    {
      "cell_type": "markdown",
      "metadata": {
        "id": "fR3aaA2NHn3E"
      },
      "source": [
        "# Numpy Array"
      ]
    },
    {
      "cell_type": "markdown",
      "metadata": {
        "id": "kQ8bhJP6Hn3E"
      },
      "source": [
        "A numpy array is a grid of values, all of the same type, and is indexed by a tuple of nonnegative integers. The number of dimensions is the rank of the array; the shape of an array is a tuple of integers giving the size of the array along each dimension."
      ]
    },
    {
      "cell_type": "markdown",
      "metadata": {
        "id": "piMrC1gBHn3E"
      },
      "source": [
        "We can initialize numpy arrays from nested Python lists, and access elements using square brackets:"
      ]
    },
    {
      "cell_type": "code",
      "metadata": {
        "id": "B3qnHVgbHn3F",
        "colab": {
          "base_uri": "https://localhost:8080/"
        },
        "outputId": "3d6babf6-d026-436a-c555-f0238baf52ac"
      },
      "source": [
        "import numpy as np\n",
        "a = np.array([1, 2, 3])# Create a rank 1 array\n",
        "\n",
        "print(type(a), a.shape, a[0], a[1], a[2])\n",
        "\n",
        "a[0] = 5 # Change an element of the array\n",
        "print(a)"
      ],
      "execution_count": 627,
      "outputs": [
        {
          "output_type": "stream",
          "name": "stdout",
          "text": [
            "<class 'numpy.ndarray'> (3,) 1 2 3\n",
            "[5 2 3]\n"
          ]
        }
      ]
    },
    {
      "cell_type": "code",
      "metadata": {
        "id": "ItFb1hI5Hn3F",
        "colab": {
          "base_uri": "https://localhost:8080/"
        },
        "outputId": "01e11524-34ca-4252-d261-1cd2d9567e49"
      },
      "source": [
        "b = np.array([[1,2,3],[4,5,6]])   # Create a rank 2 array\n",
        "print(b)"
      ],
      "execution_count": 628,
      "outputs": [
        {
          "output_type": "stream",
          "name": "stdout",
          "text": [
            "[[1 2 3]\n",
            " [4 5 6]]\n"
          ]
        }
      ]
    },
    {
      "cell_type": "code",
      "metadata": {
        "id": "rmEOiIeQHn3F",
        "colab": {
          "base_uri": "https://localhost:8080/"
        },
        "outputId": "e211f772-a74b-4ae7-b1e5-d95677109f4f"
      },
      "source": [
        "print(b.shape)\n",
        "print(b[0, 0], b[0, 1], b[1, 0])"
      ],
      "execution_count": 629,
      "outputs": [
        {
          "output_type": "stream",
          "name": "stdout",
          "text": [
            "(2, 3)\n",
            "1 2 4\n"
          ]
        }
      ]
    },
    {
      "cell_type": "code",
      "metadata": {
        "id": "_Ygs047yHn3F",
        "colab": {
          "base_uri": "https://localhost:8080/"
        },
        "outputId": "3c7f750d-26dd-46ba-c729-e3007c488304"
      },
      "source": [
        "a = np.zeros((2,2))  # Create an array of all zeros\n",
        "print(a)\n",
        "b = np.ones((1,2))   # Create an array of all ones\n",
        "print(b)\n",
        "c = np.full((2,2), 7) # Create a constant array\n",
        "print(c)\n",
        "d = np.eye(2)        # Create a 2x2 identity matrix\n",
        "print(d)\n",
        "e = np.random.random((2,2)) # Create an array filled with random values\n",
        "print(e)"
      ],
      "execution_count": 630,
      "outputs": [
        {
          "output_type": "stream",
          "name": "stdout",
          "text": [
            "[[0. 0.]\n",
            " [0. 0.]]\n",
            "[[1. 1.]]\n",
            "[[7 7]\n",
            " [7 7]]\n",
            "[[1. 0.]\n",
            " [0. 1.]]\n",
            "[[0.18885237 0.47618714]\n",
            " [0.80768354 0.50561278]]\n"
          ]
        }
      ]
    },
    {
      "cell_type": "markdown",
      "metadata": {
        "id": "yn-EPwMlHn3G"
      },
      "source": [
        "# Array indexing"
      ]
    },
    {
      "cell_type": "markdown",
      "metadata": {
        "id": "qSrsWImSHn3G"
      },
      "source": [
        "Numpy offers several ways to index into arrays.\n",
        "\n",
        "Slicing: Similar to Python lists, numpy arrays can be sliced. Since arrays may be multidimensional, you must specify a slice for each dimension of the array:"
      ]
    },
    {
      "cell_type": "code",
      "metadata": {
        "id": "dopisGR_Hn3G",
        "colab": {
          "base_uri": "https://localhost:8080/"
        },
        "outputId": "56340ab2-1523-4662-9895-9615e359dd67"
      },
      "source": [
        "import numpy as np\n",
        "\n",
        "# Create the following rank 2 array with shape (3, 4)\n",
        "# [[ 1  2  3  4]\n",
        "#  [ 5  6  7  8]\n",
        "#  [ 9 10 11 12]]\n",
        "a = np.array([[1,2,3,4], [5,6,7,8], [9,10,11,12]])\n",
        "\n",
        "# Use slicing to pull out the subarray consisting of the first 2 rows\n",
        "# and columns 1 and 2; b is the following array of shape (2, 2):\n",
        "# [[2 3]\n",
        "#  [6 7]]\n",
        "b = a[:2, 1:3] #[row, column]\n",
        "print(b)"
      ],
      "execution_count": 631,
      "outputs": [
        {
          "output_type": "stream",
          "name": "stdout",
          "text": [
            "[[2 3]\n",
            " [6 7]]\n"
          ]
        }
      ]
    },
    {
      "cell_type": "markdown",
      "metadata": {
        "id": "0-KgreLeHn3G"
      },
      "source": [
        "A slice of an array is a view into the same data, so modifying it will modify the original array."
      ]
    },
    {
      "cell_type": "markdown",
      "metadata": {
        "id": "d508B5YKHn3H"
      },
      "source": [
        "You can also mix integer indexing with slice indexing. However, doing so will yield an array of lower rank than the original array."
      ]
    },
    {
      "cell_type": "code",
      "metadata": {
        "id": "uKLH8y-nHn3H",
        "colab": {
          "base_uri": "https://localhost:8080/"
        },
        "outputId": "df4af78e-fc0e-406f-f12e-52597dc2cde6"
      },
      "source": [
        "# Create the following rank 2 array with shape (3, 4)\n",
        "a = np.array([[1,2,3,4], [5,6,7,8], [9,10,11,12]])\n",
        "print(a)"
      ],
      "execution_count": 632,
      "outputs": [
        {
          "output_type": "stream",
          "name": "stdout",
          "text": [
            "[[ 1  2  3  4]\n",
            " [ 5  6  7  8]\n",
            " [ 9 10 11 12]]\n"
          ]
        }
      ]
    },
    {
      "cell_type": "code",
      "metadata": {
        "id": "Zd9Ro5OmHn3H",
        "colab": {
          "base_uri": "https://localhost:8080/"
        },
        "outputId": "b646ac7c-e631-4e4c-c9a9-a23e21572f47"
      },
      "source": [
        "row_r1 = a[1, :]    # Rank 1 view of the second row of a  \n",
        "row_r2 = a[1:2, :]  # Rank 2 view of the second row of a\n",
        "row_r3 = a[[1], :]  # Rank 2 view of the second row of a\n",
        "print(row_r1, row_r1.shape)\n",
        "print(row_r2, row_r2.shape)\n",
        "print(row_r3, row_r3.shape)"
      ],
      "execution_count": 633,
      "outputs": [
        {
          "output_type": "stream",
          "name": "stdout",
          "text": [
            "[5 6 7 8] (4,)\n",
            "[[5 6 7 8]] (1, 4)\n",
            "[[5 6 7 8]] (1, 4)\n"
          ]
        }
      ]
    },
    {
      "cell_type": "code",
      "metadata": {
        "id": "A6_gLNp-Hn3H",
        "colab": {
          "base_uri": "https://localhost:8080/"
        },
        "outputId": "5b5bec31-8b42-495b-ed21-61a89b2e38b1"
      },
      "source": [
        "# We can make the same distinction when accessing columns of an array:\n",
        "col_r1 = a[:, 1]\n",
        "col_r2 = a[:, 1:2]\n",
        "print(col_r1, col_r1.shape)\n",
        "print()\n",
        "print(col_r2, col_r2.shape)"
      ],
      "execution_count": 634,
      "outputs": [
        {
          "output_type": "stream",
          "name": "stdout",
          "text": [
            "[ 2  6 10] (3,)\n",
            "\n",
            "[[ 2]\n",
            " [ 6]\n",
            " [10]] (3, 1)\n"
          ]
        }
      ]
    },
    {
      "cell_type": "markdown",
      "metadata": {
        "id": "DraLXREhHn3H"
      },
      "source": [
        "# Integer array indexing:"
      ]
    },
    {
      "cell_type": "markdown",
      "metadata": {
        "id": "t6AM0IwgHn3I"
      },
      "source": [
        " When you index into numpy arrays using slicing, the resulting array view will always be a subarray of the original array. In contrast, integer array indexing allows you to construct arbitrary arrays using the data from another array. Here is an example:"
      ]
    },
    {
      "cell_type": "code",
      "metadata": {
        "id": "lpPKoGMyHn3I",
        "colab": {
          "base_uri": "https://localhost:8080/"
        },
        "outputId": "0748279e-fe2a-4590-a127-b117fa6a9e2a"
      },
      "source": [
        "a = np.array([[1,2], [3, 4], [5, 6]])\n",
        "\n",
        "# An example of integer array indexing.\n",
        "# The returned array will have shape (3,) and \n",
        "print(a[[0, 1, 2], [0, 1, 0]]) # equal to below syntax\n",
        "\n",
        "# The above example of integer array indexing is equivalent to this:\n",
        "print(np.array([a[0, 0], a[1, 1], a[2, 0]]))"
      ],
      "execution_count": 635,
      "outputs": [
        {
          "output_type": "stream",
          "name": "stdout",
          "text": [
            "[1 4 5]\n",
            "[1 4 5]\n"
          ]
        }
      ]
    },
    {
      "cell_type": "code",
      "metadata": {
        "id": "a57SSAu7Hn3I",
        "colab": {
          "base_uri": "https://localhost:8080/"
        },
        "outputId": "2493d6ab-c79c-432c-9ebe-aee3cb20cee4"
      },
      "source": [
        "# When using integer array indexing, you can reuse the same\n",
        "# element from the source array:\n",
        "print(a[[0, 0], [1, 1]])\n",
        "\n",
        "# Equivalent to the previous integer array indexing example\n",
        "print(np.array([a[0, 1], a[0, 1]]))"
      ],
      "execution_count": 636,
      "outputs": [
        {
          "output_type": "stream",
          "name": "stdout",
          "text": [
            "[2 2]\n",
            "[2 2]\n"
          ]
        }
      ]
    },
    {
      "cell_type": "markdown",
      "metadata": {
        "id": "x0_OEqpKHn3I"
      },
      "source": [
        "One useful trick with integer array indexing is selecting or mutating one element from each row of a matrix:"
      ]
    },
    {
      "cell_type": "code",
      "metadata": {
        "id": "tnAWVFSOHn3I",
        "colab": {
          "base_uri": "https://localhost:8080/"
        },
        "outputId": "c69e16cc-1c9f-4f35-e5c2-e37d475e6780"
      },
      "source": [
        "# Create a new array from which we will select elements\n",
        "a = np.array([[1,2,3], [4,5,6], [7,8,9], [10, 11, 12]])\n",
        "print(a)"
      ],
      "execution_count": 637,
      "outputs": [
        {
          "output_type": "stream",
          "name": "stdout",
          "text": [
            "[[ 1  2  3]\n",
            " [ 4  5  6]\n",
            " [ 7  8  9]\n",
            " [10 11 12]]\n"
          ]
        }
      ]
    },
    {
      "cell_type": "code",
      "metadata": {
        "id": "hOFAIksoHn3I",
        "colab": {
          "base_uri": "https://localhost:8080/"
        },
        "outputId": "e8a3c636-5744-4585-cbe8-8aff43398d54"
      },
      "source": [
        "# Create an array of indices\n",
        "b = np.array([0, 2, 0, 1]) #see above array\n",
        "\n",
        "# Select one element from each row of a using the indices in b\n",
        "print(a[np.arange(4), b])  # Prints \"[ 1  6  7 11]"
      ],
      "execution_count": 638,
      "outputs": [
        {
          "output_type": "stream",
          "name": "stdout",
          "text": [
            "[ 1  6  7 11]\n"
          ]
        }
      ]
    },
    {
      "cell_type": "code",
      "metadata": {
        "id": "s-a2Qj2vHn3I",
        "scrolled": true,
        "colab": {
          "base_uri": "https://localhost:8080/"
        },
        "outputId": "dfccc3a1-5230-42ff-e1a1-da0427c5e5d3"
      },
      "source": [
        "# Mutate one element from each row of a using the indices in b\n",
        "a[np.arange(4), b] += 10\n",
        "print(a)"
      ],
      "execution_count": 639,
      "outputs": [
        {
          "output_type": "stream",
          "name": "stdout",
          "text": [
            "[[11  2  3]\n",
            " [ 4  5 16]\n",
            " [17  8  9]\n",
            " [10 21 12]]\n"
          ]
        }
      ]
    },
    {
      "cell_type": "markdown",
      "metadata": {
        "id": "7yiz2iyMHn3J"
      },
      "source": [
        "# Boolean array indexing:"
      ]
    },
    {
      "cell_type": "markdown",
      "metadata": {
        "id": "GiGR6aw3Hn3J"
      },
      "source": [
        "Boolean array indexing lets you pick out arbitrary elements of an array. Frequently this type of indexing is used to select the elements of an array that satisfy some condition. Here is an example:"
      ]
    },
    {
      "cell_type": "code",
      "metadata": {
        "id": "VsAQnlVaHn3J",
        "colab": {
          "base_uri": "https://localhost:8080/"
        },
        "outputId": "09e18684-ef61-4d2d-c231-bbd9221f2f00"
      },
      "source": [
        "import numpy as np\n",
        "\n",
        "a = np.array([[1,2], [3, 4], [5, 6]])\n",
        "\n",
        "bool_idx = (a > 2)  # Find the elements of a that are bigger than 2;\n",
        "                    # this returns a numpy array of Booleans of the same\n",
        "                    # shape as a, where each slot of bool_idx tells\n",
        "                    # whether that element of a is > 2.\n",
        "\n",
        "print(bool_idx)"
      ],
      "execution_count": 640,
      "outputs": [
        {
          "output_type": "stream",
          "name": "stdout",
          "text": [
            "[[False False]\n",
            " [ True  True]\n",
            " [ True  True]]\n"
          ]
        }
      ]
    },
    {
      "cell_type": "code",
      "metadata": {
        "id": "GxSVAHLJHn3J",
        "colab": {
          "base_uri": "https://localhost:8080/"
        },
        "outputId": "8cfc3292-6ad9-42f3-d5ae-c0a9324385f6"
      },
      "source": [
        "# We use boolean array indexing to construct a rank 1 array\n",
        "# consisting of the elements of a corresponding to the True values\n",
        "# of bool_idx\n",
        "print(a[bool_idx])\n",
        "\n",
        "# We can do all of the above in a single concise statement:\n",
        "print(a[a > 2])"
      ],
      "execution_count": 641,
      "outputs": [
        {
          "output_type": "stream",
          "name": "stdout",
          "text": [
            "[3 4 5 6]\n",
            "[3 4 5 6]\n"
          ]
        }
      ]
    },
    {
      "cell_type": "markdown",
      "metadata": {
        "id": "RGVmMpdQHn3J"
      },
      "source": [
        "# Pandas"
      ]
    },
    {
      "cell_type": "markdown",
      "metadata": {
        "id": "FXeYqPW0Hn3J"
      },
      "source": [
        "Pandas is a Python library used for working with data sets.\n",
        "It has functions for analyzing, cleaning, exploring, and manipulating data."
      ]
    },
    {
      "cell_type": "code",
      "metadata": {
        "id": "Th4qLRuDHn3J",
        "colab": {
          "base_uri": "https://localhost:8080/"
        },
        "outputId": "a4d4e055-5373-49cd-b100-779dc87ec6b7"
      },
      "source": [
        "!pip install pandas"
      ],
      "execution_count": 642,
      "outputs": [
        {
          "output_type": "stream",
          "name": "stdout",
          "text": [
            "Requirement already satisfied: pandas in /usr/local/lib/python3.7/dist-packages (1.1.5)\n",
            "Requirement already satisfied: python-dateutil>=2.7.3 in /usr/local/lib/python3.7/dist-packages (from pandas) (2.8.2)\n",
            "Requirement already satisfied: pytz>=2017.2 in /usr/local/lib/python3.7/dist-packages (from pandas) (2018.9)\n",
            "Requirement already satisfied: numpy>=1.15.4 in /usr/local/lib/python3.7/dist-packages (from pandas) (1.19.5)\n",
            "Requirement already satisfied: six>=1.5 in /usr/local/lib/python3.7/dist-packages (from python-dateutil>=2.7.3->pandas) (1.15.0)\n"
          ]
        }
      ]
    },
    {
      "cell_type": "code",
      "metadata": {
        "id": "WSObKhWiHn3K",
        "colab": {
          "base_uri": "https://localhost:8080/"
        },
        "outputId": "8fddea78-3d61-460d-e77e-624676060447"
      },
      "source": [
        "#Load a CSV file into a Pandas DataFrame:\n",
        "\n",
        "import pandas as pd\n",
        "# df = pd.read_csv('./breast_cancer.csv')\n",
        "df = pd.read_csv('iris.csv') #The data set contains 3 classes of 50 instances each,\n",
        "                                #where each class refers to a type of iris plant.\n",
        "print(df.to_string()) "
      ],
      "execution_count": 643,
      "outputs": [
        {
          "output_type": "stream",
          "name": "stdout",
          "text": [
            "     sepal.length  sepal.width  petal.length  petal.width     variety\n",
            "0             5.1          3.5           1.4          0.2      Setosa\n",
            "1             4.9          3.0           1.4          0.2      Setosa\n",
            "2             4.7          3.2           1.3          0.2      Setosa\n",
            "3             4.6          3.1           1.5          0.2      Setosa\n",
            "4             5.0          3.6           1.4          0.2      Setosa\n",
            "5             5.4          3.9           1.7          0.4      Setosa\n",
            "6             4.6          3.4           1.4          0.3      Setosa\n",
            "7             5.0          3.4           1.5          0.2      Setosa\n",
            "8             4.4          2.9           1.4          0.2      Setosa\n",
            "9             4.9          3.1           1.5          0.1      Setosa\n",
            "10            5.4          3.7           1.5          0.2      Setosa\n",
            "11            4.8          3.4           1.6          0.2      Setosa\n",
            "12            4.8          3.0           1.4          0.1      Setosa\n",
            "13            4.3          3.0           1.1          0.1      Setosa\n",
            "14            5.8          4.0           1.2          0.2      Setosa\n",
            "15            5.7          4.4           1.5          0.4      Setosa\n",
            "16            5.4          3.9           1.3          0.4      Setosa\n",
            "17            5.1          3.5           1.4          0.3      Setosa\n",
            "18            5.7          3.8           1.7          0.3      Setosa\n",
            "19            5.1          3.8           1.5          0.3      Setosa\n",
            "20            5.4          3.4           1.7          0.2      Setosa\n",
            "21            5.1          3.7           1.5          0.4      Setosa\n",
            "22            4.6          3.6           1.0          0.2      Setosa\n",
            "23            5.1          3.3           1.7          0.5      Setosa\n",
            "24            4.8          3.4           1.9          0.2      Setosa\n",
            "25            5.0          3.0           1.6          0.2      Setosa\n",
            "26            5.0          3.4           1.6          0.4      Setosa\n",
            "27            5.2          3.5           1.5          0.2      Setosa\n",
            "28            5.2          3.4           1.4          0.2      Setosa\n",
            "29            4.7          3.2           1.6          0.2      Setosa\n",
            "30            4.8          3.1           1.6          0.2      Setosa\n",
            "31            5.4          3.4           1.5          0.4      Setosa\n",
            "32            5.2          4.1           1.5          0.1      Setosa\n",
            "33            5.5          4.2           1.4          0.2      Setosa\n",
            "34            4.9          3.1           1.5          0.2      Setosa\n",
            "35            5.0          3.2           1.2          0.2      Setosa\n",
            "36            5.5          3.5           1.3          0.2      Setosa\n",
            "37            4.9          3.6           1.4          0.1      Setosa\n",
            "38            4.4          3.0           1.3          0.2      Setosa\n",
            "39            5.1          3.4           1.5          0.2      Setosa\n",
            "40            5.0          3.5           1.3          0.3      Setosa\n",
            "41            4.5          2.3           1.3          0.3      Setosa\n",
            "42            4.4          3.2           1.3          0.2      Setosa\n",
            "43            5.0          3.5           1.6          0.6      Setosa\n",
            "44            5.1          3.8           1.9          0.4      Setosa\n",
            "45            4.8          3.0           1.4          0.3      Setosa\n",
            "46            5.1          3.8           1.6          0.2      Setosa\n",
            "47            4.6          3.2           1.4          0.2      Setosa\n",
            "48            5.3          3.7           1.5          0.2      Setosa\n",
            "49            5.0          3.3           1.4          0.2      Setosa\n",
            "50            7.0          3.2           4.7          1.4  Versicolor\n",
            "51            6.4          3.2           4.5          1.5  Versicolor\n",
            "52            6.9          3.1           4.9          1.5  Versicolor\n",
            "53            5.5          2.3           4.0          1.3  Versicolor\n",
            "54            6.5          2.8           4.6          1.5  Versicolor\n",
            "55            5.7          2.8           4.5          1.3  Versicolor\n",
            "56            6.3          3.3           4.7          1.6  Versicolor\n",
            "57            4.9          2.4           3.3          1.0  Versicolor\n",
            "58            6.6          2.9           4.6          1.3  Versicolor\n",
            "59            5.2          2.7           3.9          1.4  Versicolor\n",
            "60            5.0          2.0           3.5          1.0  Versicolor\n",
            "61            5.9          3.0           4.2          1.5  Versicolor\n",
            "62            6.0          2.2           4.0          1.0  Versicolor\n",
            "63            6.1          2.9           4.7          1.4  Versicolor\n",
            "64            5.6          2.9           3.6          1.3  Versicolor\n",
            "65            6.7          3.1           4.4          1.4  Versicolor\n",
            "66            5.6          3.0           4.5          1.5  Versicolor\n",
            "67            5.8          2.7           4.1          1.0  Versicolor\n",
            "68            6.2          2.2           4.5          1.5  Versicolor\n",
            "69            5.6          2.5           3.9          1.1  Versicolor\n",
            "70            5.9          3.2           4.8          1.8  Versicolor\n",
            "71            6.1          2.8           4.0          1.3  Versicolor\n",
            "72            6.3          2.5           4.9          1.5  Versicolor\n",
            "73            6.1          2.8           4.7          1.2  Versicolor\n",
            "74            6.4          2.9           4.3          1.3  Versicolor\n",
            "75            6.6          3.0           4.4          1.4  Versicolor\n",
            "76            6.8          2.8           4.8          1.4  Versicolor\n",
            "77            6.7          3.0           5.0          1.7  Versicolor\n",
            "78            6.0          2.9           4.5          1.5  Versicolor\n",
            "79            5.7          2.6           3.5          1.0  Versicolor\n",
            "80            5.5          2.4           3.8          1.1  Versicolor\n",
            "81            5.5          2.4           3.7          1.0  Versicolor\n",
            "82            5.8          2.7           3.9          1.2  Versicolor\n",
            "83            6.0          2.7           5.1          1.6  Versicolor\n",
            "84            5.4          3.0           4.5          1.5  Versicolor\n",
            "85            6.0          3.4           4.5          1.6  Versicolor\n",
            "86            6.7          3.1           4.7          1.5  Versicolor\n",
            "87            6.3          2.3           4.4          1.3  Versicolor\n",
            "88            5.6          3.0           4.1          1.3  Versicolor\n",
            "89            5.5          2.5           4.0          1.3  Versicolor\n",
            "90            5.5          2.6           4.4          1.2  Versicolor\n",
            "91            6.1          3.0           4.6          1.4  Versicolor\n",
            "92            5.8          2.6           4.0          1.2  Versicolor\n",
            "93            5.0          2.3           3.3          1.0  Versicolor\n",
            "94            5.6          2.7           4.2          1.3  Versicolor\n",
            "95            5.7          3.0           4.2          1.2  Versicolor\n",
            "96            5.7          2.9           4.2          1.3  Versicolor\n",
            "97            6.2          2.9           4.3          1.3  Versicolor\n",
            "98            5.1          2.5           3.0          1.1  Versicolor\n",
            "99            5.7          2.8           4.1          1.3  Versicolor\n",
            "100           6.3          3.3           6.0          2.5   Virginica\n",
            "101           5.8          2.7           5.1          1.9   Virginica\n",
            "102           7.1          3.0           5.9          2.1   Virginica\n",
            "103           6.3          2.9           5.6          1.8   Virginica\n",
            "104           6.5          3.0           5.8          2.2   Virginica\n",
            "105           7.6          3.0           6.6          2.1   Virginica\n",
            "106           4.9          2.5           4.5          1.7   Virginica\n",
            "107           7.3          2.9           6.3          1.8   Virginica\n",
            "108           6.7          2.5           5.8          1.8   Virginica\n",
            "109           7.2          3.6           6.1          2.5   Virginica\n",
            "110           6.5          3.2           5.1          2.0   Virginica\n",
            "111           6.4          2.7           5.3          1.9   Virginica\n",
            "112           6.8          3.0           5.5          2.1   Virginica\n",
            "113           5.7          2.5           5.0          2.0   Virginica\n",
            "114           5.8          2.8           5.1          2.4   Virginica\n",
            "115           6.4          3.2           5.3          2.3   Virginica\n",
            "116           6.5          3.0           5.5          1.8   Virginica\n",
            "117           7.7          3.8           6.7          2.2   Virginica\n",
            "118           7.7          2.6           6.9          2.3   Virginica\n",
            "119           6.0          2.2           5.0          1.5   Virginica\n",
            "120           6.9          3.2           5.7          2.3   Virginica\n",
            "121           5.6          2.8           4.9          2.0   Virginica\n",
            "122           7.7          2.8           6.7          2.0   Virginica\n",
            "123           6.3          2.7           4.9          1.8   Virginica\n",
            "124           6.7          3.3           5.7          2.1   Virginica\n",
            "125           7.2          3.2           6.0          1.8   Virginica\n",
            "126           6.2          2.8           4.8          1.8   Virginica\n",
            "127           6.1          3.0           4.9          1.8   Virginica\n",
            "128           6.4          2.8           5.6          2.1   Virginica\n",
            "129           7.2          3.0           5.8          1.6   Virginica\n",
            "130           7.4          2.8           6.1          1.9   Virginica\n",
            "131           7.9          3.8           6.4          2.0   Virginica\n",
            "132           6.4          2.8           5.6          2.2   Virginica\n",
            "133           6.3          2.8           5.1          1.5   Virginica\n",
            "134           6.1          2.6           5.6          1.4   Virginica\n",
            "135           7.7          3.0           6.1          2.3   Virginica\n",
            "136           6.3          3.4           5.6          2.4   Virginica\n",
            "137           6.4          3.1           5.5          1.8   Virginica\n",
            "138           6.0          3.0           4.8          1.8   Virginica\n",
            "139           6.9          3.1           5.4          2.1   Virginica\n",
            "140           6.7          3.1           5.6          2.4   Virginica\n",
            "141           6.9          3.1           5.1          2.3   Virginica\n",
            "142           5.8          2.7           5.1          1.9   Virginica\n",
            "143           6.8          3.2           5.9          2.3   Virginica\n",
            "144           6.7          3.3           5.7          2.5   Virginica\n",
            "145           6.7          3.0           5.2          2.3   Virginica\n",
            "146           6.3          2.5           5.0          1.9   Virginica\n",
            "147           6.5          3.0           5.2          2.0   Virginica\n",
            "148           6.2          3.4           5.4          2.3   Virginica\n",
            "149           5.9          3.0           5.1          1.8   Virginica\n"
          ]
        }
      ]
    },
    {
      "cell_type": "code",
      "metadata": {
        "id": "JsWeRrMoHn3K",
        "colab": {
          "base_uri": "https://localhost:8080/"
        },
        "outputId": "04833d5a-7387-440f-a0c6-e255647789e4"
      },
      "source": [
        "# Pandas Series - like 1D array. A Pandas Series is like a column in a table.\n",
        "#It is a one-dimensional array holding data of any type\n",
        "\n",
        "import pandas as pd\n",
        "p_series = [10, 76, 26, 66]\n",
        "newvar = pd.Series(p_series)\n",
        "print(newvar)"
      ],
      "execution_count": 644,
      "outputs": [
        {
          "output_type": "stream",
          "name": "stdout",
          "text": [
            "0    10\n",
            "1    76\n",
            "2    26\n",
            "3    66\n",
            "dtype: int64\n"
          ]
        }
      ]
    },
    {
      "cell_type": "code",
      "metadata": {
        "id": "VG2JlfJWHn3K",
        "colab": {
          "base_uri": "https://localhost:8080/"
        },
        "outputId": "a92fedba-df8c-4637-efb1-83f59200d0ca"
      },
      "source": [
        "#A Pandas DataFrame is a 2 dimensional data structure, \n",
        "#like a 2 dimensional array, or a table with rows and columns\n",
        "\n",
        "import pandas as pd\n",
        "data = {\n",
        "  \"name\": [\"ABC\", \"monika\", \"manisha\"],\n",
        "  \"age\": [50, 40, 45]\n",
        "}\n",
        "\n",
        "myvar = pd.DataFrame(data)\n",
        "\n",
        "print(myvar)"
      ],
      "execution_count": 645,
      "outputs": [
        {
          "output_type": "stream",
          "name": "stdout",
          "text": [
            "      name  age\n",
            "0      ABC   50\n",
            "1   monika   40\n",
            "2  manisha   45\n"
          ]
        }
      ]
    },
    {
      "cell_type": "markdown",
      "metadata": {
        "id": "9d_vx_F2Hn3K"
      },
      "source": [
        "Scipy and Numpy are scientific projects whose aim is to bring efficient and fast numeric computing to python.\n",
        "\n",
        "Matplotlib is the name of the python plotting library."
      ]
    },
    {
      "cell_type": "markdown",
      "metadata": {
        "id": "MEKMVc__Hn3K"
      },
      "source": [
        "# Matplotlib"
      ]
    },
    {
      "cell_type": "code",
      "metadata": {
        "id": "i-7sO5zlHn3K",
        "colab": {
          "base_uri": "https://localhost:8080/"
        },
        "outputId": "0d5838cd-6963-43a8-9881-4a164e98b25e"
      },
      "source": [
        "!pip install matplotlib"
      ],
      "execution_count": 646,
      "outputs": [
        {
          "output_type": "stream",
          "name": "stdout",
          "text": [
            "Requirement already satisfied: matplotlib in /usr/local/lib/python3.7/dist-packages (3.2.2)\n",
            "Requirement already satisfied: numpy>=1.11 in /usr/local/lib/python3.7/dist-packages (from matplotlib) (1.19.5)\n",
            "Requirement already satisfied: kiwisolver>=1.0.1 in /usr/local/lib/python3.7/dist-packages (from matplotlib) (1.3.2)\n",
            "Requirement already satisfied: cycler>=0.10 in /usr/local/lib/python3.7/dist-packages (from matplotlib) (0.10.0)\n",
            "Requirement already satisfied: pyparsing!=2.0.4,!=2.1.2,!=2.1.6,>=2.0.1 in /usr/local/lib/python3.7/dist-packages (from matplotlib) (2.4.7)\n",
            "Requirement already satisfied: python-dateutil>=2.1 in /usr/local/lib/python3.7/dist-packages (from matplotlib) (2.8.2)\n",
            "Requirement already satisfied: six in /usr/local/lib/python3.7/dist-packages (from cycler>=0.10->matplotlib) (1.15.0)\n"
          ]
        }
      ]
    },
    {
      "cell_type": "markdown",
      "metadata": {
        "id": "m9O9jVb5Hn3K"
      },
      "source": [
        "# Line Plot"
      ]
    },
    {
      "cell_type": "code",
      "metadata": {
        "id": "Wdp3HNbqHn3L",
        "colab": {
          "base_uri": "https://localhost:8080/",
          "height": 265
        },
        "outputId": "51fe1739-ee5f-4757-b8ac-07c1a74d81bd"
      },
      "source": [
        "# importing matplotlib module  \n",
        "from matplotlib import pyplot as plt  \n",
        "  \n",
        "# x-axis values  \n",
        "x = [5, 2, 9, 4, 7]  \n",
        "  \n",
        "# Y-axis values  \n",
        "y = [10, 5, 8, 4, 2]  \n",
        "  \n",
        "# Function to plot  \n",
        "plt.plot(x, y)  \n",
        "  \n",
        "# function to show the plot  \n",
        "plt.show() "
      ],
      "execution_count": 647,
      "outputs": [
        {
          "output_type": "display_data",
          "data": {
            "image/png": "[encoded data removed]",
            "text/plain": [
              "<Figure size 432x288 with 1 Axes>"
            ]
          },
          "metadata": {
            "needs_background": "light"
          }
        }
      ]
    },
    {
      "cell_type": "markdown",
      "metadata": {
        "id": "Dio46IBfHn3L"
      },
      "source": [
        "# Bar Plot"
      ]
    },
    {
      "cell_type": "code",
      "metadata": {
        "id": "FsUxIbFlHn3L",
        "colab": {
          "base_uri": "https://localhost:8080/",
          "height": 265
        },
        "outputId": "087cebba-cf46-4725-8b58-2d407c9286fc"
      },
      "source": [
        "# importing matplotlib module \n",
        "from matplotlib import pyplot as plt \n",
        "\n",
        "# x-axis values \n",
        "x = [5, 2, 9, 4, 7] \n",
        "\n",
        "# Y-axis values \n",
        "y = [10, 5, 8, 4, 2] \n",
        "\n",
        "# Function to plot \n",
        "plt.bar(x, y) \n",
        "\n",
        "# function to show the plot \n",
        "plt.show() \n"
      ],
      "execution_count": 648,
      "outputs": [
        {
          "output_type": "display_data",
          "data": {
            "image/png": "[encoded data removed]",
            "text/plain": [
              "<Figure size 432x288 with 1 Axes>"
            ]
          },
          "metadata": {
            "needs_background": "light"
          }
        }
      ]
    },
    {
      "cell_type": "markdown",
      "metadata": {
        "id": "TenRYuo_Hn3L"
      },
      "source": [
        "# Histogram"
      ]
    },
    {
      "cell_type": "code",
      "metadata": {
        "id": "6Ccf3o3OHn3L",
        "colab": {
          "base_uri": "https://localhost:8080/",
          "height": 265
        },
        "outputId": "c9e38891-1af8-4d84-e5fb-6eee23700468"
      },
      "source": [
        "# importing matplotlib module  \n",
        "from matplotlib import pyplot as plt  \n",
        "  \n",
        "# Y-axis values  \n",
        "y = [10, 5, 8, 4, 2]  \n",
        "  \n",
        "# Function to plot histogram  \n",
        "plt.hist(y)  \n",
        "  \n",
        "# Function to show the plot  \n",
        "plt.show()"
      ],
      "execution_count": 649,
      "outputs": [
        {
          "output_type": "display_data",
          "data": {
            "image/png": "[encoded data removed]",
            "text/plain": [
              "<Figure size 432x288 with 1 Axes>"
            ]
          },
          "metadata": {
            "needs_background": "light"
          }
        }
      ]
    },
    {
      "cell_type": "markdown",
      "metadata": {
        "id": "t2qIOs0VHn3L"
      },
      "source": [
        "# Scatter Plot"
      ]
    },
    {
      "cell_type": "code",
      "metadata": {
        "id": "gQKOPt6sHn3L",
        "colab": {
          "base_uri": "https://localhost:8080/",
          "height": 265
        },
        "outputId": "afc3f036-6f95-4875-b28c-4adbb6d41d41"
      },
      "source": [
        "# importing matplotlib module \n",
        "from matplotlib import pyplot as plt \n",
        "\n",
        "# x-axis values \n",
        "x = [5, 2, 9, 4, 7] \n",
        "\n",
        "# Y-axis values \n",
        "y = [10, 5, 8, 4, 2] \n",
        "\n",
        "# Function to plot scatter \n",
        "plt.scatter(x, y) \n",
        "\n",
        "# function to show the plot \n",
        "plt.show() "
      ],
      "execution_count": 650,
      "outputs": [
        {
          "output_type": "display_data",
          "data": {
            "image/png": "[encoded data removed]",
            "text/plain": [
              "<Figure size 432x288 with 1 Axes>"
            ]
          },
          "metadata": {
            "needs_background": "light"
          }
        }
      ]
    },
    {
      "cell_type": "markdown",
      "metadata": {
        "id": "EG78p5QeHn3M"
      },
      "source": [
        "# Numpy with Matplotlib"
      ]
    },
    {
      "cell_type": "code",
      "metadata": {
        "id": "n_tefP4xHn3M",
        "colab": {
          "base_uri": "https://localhost:8080/",
          "height": 295
        },
        "outputId": "b2df1a5a-698c-494e-f52a-961ad4c1581b"
      },
      "source": [
        "import matplotlib\n",
        "import matplotlib.pyplot as plt\n",
        "import numpy as np\n",
        "\n",
        "# Data for plotting\n",
        "t = np.arange(0.0, 2.0, 0.01) #NumPy arange() is one of the array creation routines based on numerical ranges\n",
        "s = 1 + np.sin(2 * np.pi * t)\n",
        "\n",
        "fig, ax = plt.subplots()\n",
        "ax.plot(t, s)\n",
        "\n",
        "ax.set(xlabel='time (s)', ylabel='voltage (mV)',\n",
        "       title='About as simple as it gets, folks')\n",
        "ax.grid()\n",
        "\n",
        "fig.savefig(\"test.png\")\n",
        "plt.show()"
      ],
      "execution_count": 651,
      "outputs": [
        {
          "output_type": "display_data",
          "data": {
            "image/png": "[encoded data removed]",
            "text/plain": [
              "<Figure size 432x288 with 1 Axes>"
            ]
          },
          "metadata": {
            "needs_background": "light"
          }
        }
      ]
    },
    {
      "cell_type": "markdown",
      "metadata": {
        "id": "7vF03qKwHn3M"
      },
      "source": [
        "# Matplotlib,Numpy and Pandas"
      ]
    },
    {
      "cell_type": "code",
      "metadata": {
        "id": "1h069FilHn3M",
        "colab": {
          "base_uri": "https://localhost:8080/",
          "height": 295
        },
        "outputId": "b083c9a7-c3ab-449b-cfd2-abece960b171"
      },
      "source": [
        "# importing libraries \n",
        "import matplotlib.pyplot as plt \n",
        "import pandas as pd \n",
        "import numpy as np \n",
        "  \n",
        "ts = pd.Series(np.random.randn(1000), index = pd.date_range( \n",
        "                                '1/1/2000', periods = 1000)) \n",
        "  \n",
        "df = pd.DataFrame(np.random.randn(1000, 4),  \n",
        "   index = ts.index, columns = list('ABCD')) \n",
        "  \n",
        "df = df.cumsum() \n",
        "plt.figure() \n",
        "df.plot() \n",
        "plt.show()"
      ],
      "execution_count": 652,
      "outputs": [
        {
          "output_type": "display_data",
          "data": {
            "text/plain": [
              "<Figure size 432x288 with 0 Axes>"
            ]
          },
          "metadata": {}
        },
        {
          "output_type": "display_data",
          "data": {
            "image/png": "[encoded data removed]",
            "text/plain": [
              "<Figure size 432x288 with 1 Axes>"
            ]
          },
          "metadata": {
            "needs_background": "light"
          }
        }
      ]
    },
    {
      "cell_type": "code",
      "metadata": {
        "id": "V7pM_P0pHn3M",
        "colab": {
          "base_uri": "https://localhost:8080/",
          "height": 262
        },
        "outputId": "2001606f-21ec-4772-c6da-35144e58e30f"
      },
      "source": [
        "# importing libraries \n",
        "import matplotlib.pyplot as plt \n",
        "import pandas as pd \n",
        "import numpy as np \n",
        "  \n",
        "ts = pd.Series(np.random.randn(1000), index = pd.date_range( \n",
        "                                '1/1/2000', periods = 1000)) \n",
        "  \n",
        "df = pd.DataFrame(np.random.randn(1000, 4), index = ts.index, \n",
        "                                      columns = list('ABCD')) \n",
        "  \n",
        "df3 = pd.DataFrame(np.random.randn(1000, 2), \n",
        "               columns =['B', 'C']).cumsum() \n",
        "  \n",
        "df3['A'] = pd.Series(list(range(len(df)))) \n",
        "df3.iloc[5].plot.bar() \n",
        "plt.axhline(0, color ='k') \n",
        "  \n",
        "plt.show() "
      ],
      "execution_count": 653,
      "outputs": [
        {
          "output_type": "display_data",
          "data": {
            "image/png": "[encoded data removed]",
            "text/plain": [
              "<Figure size 432x288 with 1 Axes>"
            ]
          },
          "metadata": {
            "needs_background": "light"
          }
        }
      ]
    },
    {
      "cell_type": "code",
      "metadata": {
        "id": "037WXIw3Hn3M",
        "colab": {
          "base_uri": "https://localhost:8080/",
          "height": 283
        },
        "outputId": "15d8549b-03c6-4ac6-9423-1f24805a0f96"
      },
      "source": [
        "# importing libraries \n",
        "import matplotlib.pyplot as plt \n",
        "import pandas as pd \n",
        "import numpy as np \n",
        "  \n",
        "df4 = pd.DataFrame({'a': np.random.randn(1000) + 1,  \n",
        "                    'b': np.random.randn(1000),  \n",
        "                    'c': np.random.randn(1000) - 1}, \n",
        "                           columns =['a', 'b', 'c']) \n",
        "plt.figure() \n",
        "  \n",
        "df4.plot.hist(alpha = 0.5) \n",
        "plt.show() "
      ],
      "execution_count": 654,
      "outputs": [
        {
          "output_type": "display_data",
          "data": {
            "text/plain": [
              "<Figure size 432x288 with 0 Axes>"
            ]
          },
          "metadata": {}
        },
        {
          "output_type": "display_data",
          "data": {
            "image/png": "[encoded data removed]",
            "text/plain": [
              "<Figure size 432x288 with 1 Axes>"
            ]
          },
          "metadata": {
            "needs_background": "light"
          }
        }
      ]
    },
    {
      "cell_type": "code",
      "metadata": {
        "id": "n9Z7GhkwHn3N",
        "colab": {
          "base_uri": "https://localhost:8080/",
          "height": 267
        },
        "outputId": "b47fd13f-bc2d-4f8b-fa75-4b0ceb1eaa2f"
      },
      "source": [
        "# importing libraries \n",
        "import matplotlib.pyplot as plt \n",
        "import pandas as pd \n",
        "import numpy as np \n",
        "  \n",
        "df = pd.DataFrame(np.random.rand(10, 5),  \n",
        "      columns =['A', 'B', 'C', 'D', 'E']) \n",
        "  \n",
        "df.plot.box() \n",
        "plt.show()"
      ],
      "execution_count": 655,
      "outputs": [
        {
          "output_type": "display_data",
          "data": {
            "image/png": "[encoded data removed]",
            "text/plain": [
              "<Figure size 432x288 with 1 Axes>"
            ]
          },
          "metadata": {
            "needs_background": "light"
          }
        }
      ]
    },
    {
      "cell_type": "code",
      "metadata": {
        "id": "7VZzleafHn3N",
        "colab": {
          "base_uri": "https://localhost:8080/",
          "height": 265
        },
        "outputId": "9cc9f11c-44ba-4388-a4e1-ee2a613eed07"
      },
      "source": [
        "# importing libraries \n",
        "import matplotlib.pyplot as plt \n",
        "import pandas as pd \n",
        "import numpy as np \n",
        "  \n",
        "df = pd.DataFrame(np.random.rand(10, 5),  \n",
        "      columns =['A', 'B', 'C', 'D', 'E']) \n",
        "  \n",
        "ser = pd.Series(np.random.randn(1000)) \n",
        "ser.plot.kde() \n",
        "  \n",
        "plt.show()"
      ],
      "execution_count": 656,
      "outputs": [
        {
          "output_type": "display_data",
          "data": {
            "image/png": "[encoded data removed]",
            "text/plain": [
              "<Figure size 432x288 with 1 Axes>"
            ]
          },
          "metadata": {
            "needs_background": "light"
          }
        }
      ]
    },
    {
      "cell_type": "code",
      "metadata": {
        "id": "x98207xeHn3N"
      },
      "source": [
        ""
      ],
      "execution_count": 656,
      "outputs": []
    },
    {
      "cell_type": "code",
      "metadata": {
        "id": "LgZRnweFHn3N"
      },
      "source": [
        ""
      ],
      "execution_count": 656,
      "outputs": []
    }
  ]
}